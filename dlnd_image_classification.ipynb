{
 "cells": [
  {
   "cell_type": "markdown",
   "metadata": {
    "collapsed": true,
    "deletable": true,
    "editable": true
   },
   "source": [
    "# Image Classification\n",
    "In this project, you'll classify images from the [CIFAR-10 dataset](https://www.cs.toronto.edu/~kriz/cifar.html).  The dataset consists of airplanes, dogs, cats, and other objects. You'll preprocess the images, then train a convolutional neural network on all the samples. The images need to be normalized and the labels need to be one-hot encoded.  You'll get to apply what you learned and build a convolutional, max pooling, dropout, and fully connected layers.  At the end, you'll get to see your neural network's predictions on the sample images.\n",
    "## Get the Data\n",
    "Run the following cell to download the [CIFAR-10 dataset for python](https://www.cs.toronto.edu/~kriz/cifar-10-python.tar.gz)."
   ]
  },
  {
   "cell_type": "code",
   "execution_count": 2,
   "metadata": {
    "collapsed": false,
    "deletable": true,
    "editable": true
   },
   "outputs": [
    {
     "name": "stdout",
     "output_type": "stream",
     "text": [
      "All files found!\n"
     ]
    }
   ],
   "source": [
    "\"\"\"\n",
    "DON'T MODIFY ANYTHING IN THIS CELL THAT IS BELOW THIS LINE\n",
    "\"\"\"\n",
    "from urllib.request import urlretrieve\n",
    "from os.path import isfile, isdir\n",
    "from tqdm import tqdm\n",
    "import problem_unittests as tests\n",
    "import tarfile\n",
    "\n",
    "cifar10_dataset_folder_path = 'cifar-10-batches-py'\n",
    "\n",
    "# Use Floyd's cifar-10 dataset if present\n",
    "floyd_cifar10_location = '/input/cifar-10/python.tar.gz'\n",
    "if isfile(floyd_cifar10_location):\n",
    "    tar_gz_path = floyd_cifar10_location\n",
    "else:\n",
    "    tar_gz_path = 'cifar-10-python.tar.gz'\n",
    "\n",
    "class DLProgress(tqdm):\n",
    "    last_block = 0\n",
    "\n",
    "    def hook(self, block_num=1, block_size=1, total_size=None):\n",
    "        self.total = total_size\n",
    "        self.update((block_num - self.last_block) * block_size)\n",
    "        self.last_block = block_num\n",
    "\n",
    "if not isfile(tar_gz_path):\n",
    "    with DLProgress(unit='B', unit_scale=True, miniters=1, desc='CIFAR-10 Dataset') as pbar:\n",
    "        urlretrieve(\n",
    "            'https://www.cs.toronto.edu/~kriz/cifar-10-python.tar.gz',\n",
    "            tar_gz_path,\n",
    "            pbar.hook)\n",
    "\n",
    "if not isdir(cifar10_dataset_folder_path):\n",
    "    with tarfile.open(tar_gz_path) as tar:\n",
    "        tar.extractall()\n",
    "        tar.close()\n",
    "\n",
    "\n",
    "tests.test_folder_path(cifar10_dataset_folder_path)"
   ]
  },
  {
   "cell_type": "markdown",
   "metadata": {
    "deletable": true,
    "editable": true
   },
   "source": [
    "## Explore the Data\n",
    "The dataset is broken into batches to prevent your machine from running out of memory.  The CIFAR-10 dataset consists of 5 batches, named `data_batch_1`, `data_batch_2`, etc.. Each batch contains the labels and images that are one of the following:\n",
    "* airplane\n",
    "* automobile\n",
    "* bird\n",
    "* cat\n",
    "* deer\n",
    "* dog\n",
    "* frog\n",
    "* horse\n",
    "* ship\n",
    "* truck\n",
    "\n",
    "Understanding a dataset is part of making predictions on the data.  Play around with the code cell below by changing the `batch_id` and `sample_id`. The `batch_id` is the id for a batch (1-5). The `sample_id` is the id for a image and label pair in the batch.\n",
    "\n",
    "Ask yourself \"What are all possible labels?\", \"What is the range of values for the image data?\", \"Are the labels in order or random?\".  Answers to questions like these will help you preprocess the data and end up with better predictions."
   ]
  },
  {
   "cell_type": "code",
   "execution_count": 4,
   "metadata": {
    "collapsed": false,
    "deletable": true,
    "editable": true
   },
   "outputs": [
    {
     "name": "stdout",
     "output_type": "stream",
     "text": [
      "\n",
      "Stats of batch 2:\n",
      "Samples: 10000\n",
      "Label Counts: {0: 984, 1: 1007, 2: 1010, 3: 995, 4: 1010, 5: 988, 6: 1008, 7: 1026, 8: 987, 9: 985}\n",
      "First 20 Labels: [1, 6, 6, 8, 8, 3, 4, 6, 0, 6, 0, 3, 6, 6, 5, 4, 8, 3, 2, 6]\n",
      "\n",
      "Example of Image 5:\n",
      "Image - Min Value: 3 Max Value: 219\n",
      "Image - Shape: (32, 32, 3)\n",
      "Label - Label Id: 3 Name: cat\n"
     ]
    },
    {
     "data": {
      "image/png": "[encoded data removed]",
      "text/plain": [
       "<matplotlib.figure.Figure at 0x7f4345966860>"
      ]
     },
     "metadata": {
      "image/png": {
       "height": 250,
       "width": 253
      }
     },
     "output_type": "display_data"
    }
   ],
   "source": [
    "%matplotlib inline\n",
    "%config InlineBackend.figure_format = 'retina'\n",
    "\n",
    "import helper\n",
    "import numpy as np\n",
    "\n",
    "# Explore the dataset\n",
    "batch_id = 2\n",
    "sample_id = 5\n",
    "helper.display_stats(cifar10_dataset_folder_path, batch_id, sample_id)"
   ]
  },
  {
   "cell_type": "markdown",
   "metadata": {
    "deletable": true,
    "editable": true
   },
   "source": [
    "## Implement Preprocess Functions\n",
    "### Normalize\n",
    "In the cell below, implement the `normalize` function to take in image data, `x`, and return it as a normalized Numpy array. The values should be in the range of 0 to 1, inclusive.  The return object should be the same shape as `x`."
   ]
  },
  {
   "cell_type": "code",
   "execution_count": 5,
   "metadata": {
    "collapsed": false,
    "deletable": true,
    "editable": true
   },
   "outputs": [
    {
     "name": "stdout",
     "output_type": "stream",
     "text": [
      "Tests Passed\n"
     ]
    }
   ],
   "source": [
    "def normalize(x):\n",
    "    \"\"\"\n",
    "    Normalize a list of sample image data in the range of 0 to 1\n",
    "    : x: List of image data.  The image shape is (32, 32, 3)\n",
    "    : return: Numpy array of normalize data\n",
    "    \"\"\"\n",
    "    # TODO: Implement Function\n",
    "    \n",
    "    return np.array((x - np.min(x)) / (np.max(x) - np.min(x)))\n",
    "    #return tf.variable(tf.truncated_normal(x))\n",
    "\n",
    "\n",
    "\"\"\"\n",
    "DON'T MODIFY ANYTHING IN THIS CELL THAT IS BELOW THIS LINE\n",
    "\"\"\"\n",
    "tests.test_normalize(normalize)"
   ]
  },
  {
   "cell_type": "markdown",
   "metadata": {
    "deletable": true,
    "editable": true
   },
   "source": [
    "### One-hot encode\n",
    "Just like the previous code cell, you'll be implementing a function for preprocessing.  This time, you'll implement the `one_hot_encode` function. The input, `x`, are a list of labels.  Implement the function to return the list of labels as One-Hot encoded Numpy array.  The possible values for labels are 0 to 9. The one-hot encoding function should return the same encoding for each value between each call to `one_hot_encode`.  Make sure to save the map of encodings outside the function.\n",
    "\n",
    "Hint: Don't reinvent the wheel."
   ]
  },
  {
   "cell_type": "code",
   "execution_count": 6,
   "metadata": {
    "collapsed": false,
    "deletable": true,
    "editable": true
   },
   "outputs": [
    {
     "name": "stdout",
     "output_type": "stream",
     "text": [
      "Tests Passed\n"
     ]
    }
   ],
   "source": [
    "from sklearn import preprocessing\n",
    "def one_hot_encode(x):\n",
    "    lb=preprocessing.LabelBinarizer()\n",
    "    \"\"\"\n",
    "    One hot encode a list of sample labels. Return a one-hot encoded vector for each label.\n",
    "    : x: List of sample Labels\n",
    "    : return: Numpy array of one-hot encoded labels\n",
    "    \"\"\"\n",
    "    # TODO: Implement Function\n",
    "    lb.fit(range(10))\n",
    "    return lb.transform(x)\n",
    "\n",
    "\n",
    "\"\"\"\n",
    "DON'T MODIFY ANYTHING IN THIS CELL THAT IS BELOW THIS LINE\n",
    "\"\"\"\n",
    "tests.test_one_hot_encode(one_hot_encode)"
   ]
  },
  {
   "cell_type": "markdown",
   "metadata": {
    "deletable": true,
    "editable": true
   },
   "source": [
    "### Randomize Data\n",
    "As you saw from exploring the data above, the order of the samples are randomized.  It doesn't hurt to randomize it again, but you don't need to for this dataset."
   ]
  },
  {
   "cell_type": "markdown",
   "metadata": {
    "deletable": true,
    "editable": true
   },
   "source": [
    "## Preprocess all the data and save it\n",
    "Running the code cell below will preprocess all the CIFAR-10 data and save it to file. The code below also uses 10% of the training data for validation."
   ]
  },
  {
   "cell_type": "code",
   "execution_count": 7,
   "metadata": {
    "collapsed": false,
    "deletable": true,
    "editable": true
   },
   "outputs": [],
   "source": [
    "\"\"\"\n",
    "DON'T MODIFY ANYTHING IN THIS CELL\n",
    "\"\"\"\n",
    "# Preprocess Training, Validation, and Testing Data\n",
    "helper.preprocess_and_save_data(cifar10_dataset_folder_path, normalize, one_hot_encode)"
   ]
  },
  {
   "cell_type": "markdown",
   "metadata": {
    "deletable": true,
    "editable": true
   },
   "source": [
    "# Check Point\n",
    "This is your first checkpoint.  If you ever decide to come back to this notebook or have to restart the notebook, you can start from here.  The preprocessed data has been saved to disk."
   ]
  },
  {
   "cell_type": "code",
   "execution_count": 8,
   "metadata": {
    "collapsed": true,
    "deletable": true,
    "editable": true
   },
   "outputs": [],
   "source": [
    "\"\"\"\n",
    "DON'T MODIFY ANYTHING IN THIS CELL\n",
    "\"\"\"\n",
    "import pickle\n",
    "import problem_unittests as tests\n",
    "import helper\n",
    "\n",
    "# Load the Preprocessed Validation data\n",
    "valid_features, valid_labels = pickle.load(open('preprocess_validation.p', mode='rb'))"
   ]
  },
  {
   "cell_type": "markdown",
   "metadata": {
    "deletable": true,
    "editable": true
   },
   "source": [
    "## Build the network\n",
    "For the neural network, you'll build each layer into a function.  Most of the code you've seen has been outside of functions. To test your code more thoroughly, we require that you put each layer in a function.  This allows us to give you better feedback and test for simple mistakes using our unittests before you submit your project.\n",
    "\n",
    ">**Note:** If you're finding it hard to dedicate enough time for this course each week, we've provided a small shortcut to this part of the project. In the next couple of problems, you'll have the option to use classes from the [TensorFlow Layers](https://www.tensorflow.org/api_docs/python/tf/layers) or [TensorFlow Layers (contrib)](https://www.tensorflow.org/api_guides/python/contrib.layers) packages to build each layer, except the layers you build in the \"Convolutional and Max Pooling Layer\" section.  TF Layers is similar to Keras's and TFLearn's abstraction to layers, so it's easy to pickup.\n",
    "\n",
    ">However, if you would like to get the most out of this course, try to solve all the problems _without_ using anything from the TF Layers packages. You **can** still use classes from other packages that happen to have the same name as ones you find in TF Layers! For example, instead of using the TF Layers version of the `conv2d` class, [tf.layers.conv2d](https://www.tensorflow.org/api_docs/python/tf/layers/conv2d), you would want to use the TF Neural Network version of `conv2d`, [tf.nn.conv2d](https://www.tensorflow.org/api_docs/python/tf/nn/conv2d). \n",
    "\n",
    "Let's begin!\n",
    "\n",
    "### Input\n",
    "The neural network needs to read the image data, one-hot encoded labels, and dropout keep probability. Implement the following functions\n",
    "* Implement `neural_net_image_input`\n",
    " * Return a [TF Placeholder](https://www.tensorflow.org/api_docs/python/tf/placeholder)\n",
    " * Set the shape using `image_shape` with batch size set to `None`.\n",
    " * Name the TensorFlow placeholder \"x\" using the TensorFlow `name` parameter in the [TF Placeholder](https://www.tensorflow.org/api_docs/python/tf/placeholder).\n",
    "* Implement `neural_net_label_input`\n",
    " * Return a [TF Placeholder](https://www.tensorflow.org/api_docs/python/tf/placeholder)\n",
    " * Set the shape using `n_classes` with batch size set to `None`.\n",
    " * Name the TensorFlow placeholder \"y\" using the TensorFlow `name` parameter in the [TF Placeholder](https://www.tensorflow.org/api_docs/python/tf/placeholder).\n",
    "* Implement `neural_net_keep_prob_input`\n",
    " * Return a [TF Placeholder](https://www.tensorflow.org/api_docs/python/tf/placeholder) for dropout keep probability.\n",
    " * Name the TensorFlow placeholder \"keep_prob\" using the TensorFlow `name` parameter in the [TF Placeholder](https://www.tensorflow.org/api_docs/python/tf/placeholder).\n",
    "\n",
    "These names will be used at the end of the project to load your saved model.\n",
    "\n",
    "Note: `None` for shapes in TensorFlow allow for a dynamic size."
   ]
  },
  {
   "cell_type": "code",
   "execution_count": 9,
   "metadata": {
    "collapsed": false,
    "deletable": true,
    "editable": true
   },
   "outputs": [
    {
     "name": "stdout",
     "output_type": "stream",
     "text": [
      "Image Input Tests Passed.\n",
      "Label Input Tests Passed.\n",
      "Keep Prob Tests Passed.\n"
     ]
    }
   ],
   "source": [
    "import tensorflow as tf\n",
    "\n",
    "def neural_net_image_input(image_shape):\n",
    "    \"\"\"\n",
    "    Return a Tensor for a batch of image input\n",
    "    : image_shape: Shape of the images\n",
    "    : return: Tensor for image input.\n",
    "    \"\"\"\n",
    "    # TODO: Implement Function\n",
    "   \n",
    "    return tf.placeholder(tf.float32, shape=(None,*image_shape), name=('x'))\n",
    "\n",
    "\n",
    "def neural_net_label_input(n_classes):\n",
    "    \"\"\"\n",
    "    Return a Tensor for a batch of label input\n",
    "    : n_classes: Number of classes\n",
    "    : return: Tensor for label input.\n",
    "    \"\"\"\n",
    "    # TODO: Implement Function\n",
    "    return tf.placeholder(tf.int32, shape=(None, n_classes), name=('y'))\n",
    "\n",
    "\n",
    "def neural_net_keep_prob_input():\n",
    "    \"\"\"\n",
    "    Return a Tensor for keep probability\n",
    "    : return: Tensor for keep probability.\n",
    "    \"\"\"\n",
    "    # TODO: Implement Function\n",
    "    return tf.placeholder(tf.float32, name=('keep_prob'))\n",
    "\n",
    "\n",
    "\"\"\"\n",
    "DON'T MODIFY ANYTHING IN THIS CELL THAT IS BELOW THIS LINE\n",
    "\"\"\"\n",
    "tf.reset_default_graph()\n",
    "tests.test_nn_image_inputs(neural_net_image_input)\n",
    "tests.test_nn_label_inputs(neural_net_label_input)\n",
    "tests.test_nn_keep_prob_inputs(neural_net_keep_prob_input)"
   ]
  },
  {
   "cell_type": "markdown",
   "metadata": {
    "deletable": true,
    "editable": true
   },
   "source": [
    "### Convolution and Max Pooling Layer\n",
    "Convolution layers have a lot of success with images. For this code cell, you should implement the function `conv2d_maxpool` to apply convolution then max pooling:\n",
    "* Create the weight and bias using `conv_ksize`, `conv_num_outputs` and the shape of `x_tensor`.\n",
    "* Apply a convolution to `x_tensor` using weight and `conv_strides`.\n",
    " * We recommend you use same padding, but you're welcome to use any padding.\n",
    "* Add bias\n",
    "* Add a nonlinear activation to the convolution.\n",
    "* Apply Max Pooling using `pool_ksize` and `pool_strides`.\n",
    " * We recommend you use same padding, but you're welcome to use any padding.\n",
    "\n",
    "**Note:** You **can't** use [TensorFlow Layers](https://www.tensorflow.org/api_docs/python/tf/layers) or [TensorFlow Layers (contrib)](https://www.tensorflow.org/api_guides/python/contrib.layers) for **this** layer, but you can still use TensorFlow's [Neural Network](https://www.tensorflow.org/api_docs/python/tf/nn) package. You may still use the shortcut option for all the **other** layers."
   ]
  },
  {
   "cell_type": "code",
   "execution_count": 10,
   "metadata": {
    "collapsed": false,
    "deletable": true,
    "editable": true
   },
   "outputs": [
    {
     "name": "stdout",
     "output_type": "stream",
     "text": [
      "Tests Passed\n"
     ]
    }
   ],
   "source": [
    "def conv2d_maxpool(x_tensor, conv_num_outputs, conv_ksize, conv_strides, pool_ksize, pool_strides):\n",
    "    \"\"\"\n",
    "    Apply convolution then max pooling to x_tensor\n",
    "    :param x_tensor: TensorFlow Tensor\n",
    "    :param conv_num_outputs: Number of outputs for the convolutional layer\n",
    "    :param conv_ksize: kernal size 2-D Tuple for the convolutional layer\n",
    "    :param conv_strides: Stride 2-D Tuple for convolution\n",
    "    :param pool_ksize: kernal size 2-D Tuple for pool\n",
    "    :param pool_strides: Stride 2-D Tuple for pool\n",
    "    : return: A tensor that represents convolution and max pooling of x_tensor\n",
    "    \"\"\"\n",
    "    # TODO: Implement Function\n",
    "    h=conv_ksize[0]\n",
    "    w=conv_ksize[1]\n",
    "    color_channels = x_tensor.get_shape().as_list()[3]\n",
    "    \n",
    "    # Weights & bias\n",
    "    weights = tf.Variable(tf.truncated_normal([h, w, color_channels, conv_num_outputs]))\n",
    "    bias = tf.Variable(tf.zeros(conv_num_outputs))\n",
    "    \n",
    "    #Applying convolution\n",
    "    conv_s=[1, *conv_strides, 1]\n",
    "    conv_layer=tf.nn.conv2d(x_tensor,weights,conv_s,padding='SAME')\n",
    "    \n",
    "    #Add bias\n",
    "    conv_layer=tf.nn.bias_add(conv_layer,bias)\n",
    "    \n",
    "    #Activation function\n",
    "    conv_layer=tf.nn.relu(conv_layer)\n",
    "    \n",
    "    #Applying max pool\n",
    "    pool_strides=[1,*pool_strides, 1]\n",
    "    pool_ksize=[1, *pool_ksize, 1]\n",
    "    conv_layer=tf.nn.max_pool(conv_layer, ksize=pool_ksize, strides=pool_strides, padding='SAME')\n",
    "    \n",
    "    return conv_layer \n",
    "\n",
    "\n",
    "\"\"\"\n",
    "DON'T MODIFY ANYTHING IN THIS CELL THAT IS BELOW THIS LINE\n",
    "\"\"\"\n",
    "tests.test_con_pool(conv2d_maxpool)"
   ]
  },
  {
   "cell_type": "markdown",
   "metadata": {
    "deletable": true,
    "editable": true
   },
   "source": [
    "### Flatten Layer\n",
    "Implement the `flatten` function to change the dimension of `x_tensor` from a 4-D tensor to a 2-D tensor.  The output should be the shape (*Batch Size*, *Flattened Image Size*). Shortcut option: you can use classes from the [TensorFlow Layers](https://www.tensorflow.org/api_docs/python/tf/layers) or [TensorFlow Layers (contrib)](https://www.tensorflow.org/api_guides/python/contrib.layers) packages for this layer. For more of a challenge, only use other TensorFlow packages."
   ]
  },
  {
   "cell_type": "code",
   "execution_count": 11,
   "metadata": {
    "collapsed": false,
    "deletable": true,
    "editable": true
   },
   "outputs": [
    {
     "name": "stdout",
     "output_type": "stream",
     "text": [
      "Tests Passed\n"
     ]
    }
   ],
   "source": [
    "def flatten(x_tensor):\n",
    "    \"\"\"\n",
    "    Flatten x_tensor to (Batch Size, Flattened Image Size)\n",
    "    : x_tensor: A tensor of size (Batch Size, ...), where ... are the image dimensions.\n",
    "    : return: A tensor of size (Batch Size, Flattened Image Size).\n",
    "    \"\"\"\n",
    "    # TODO: Implement Function\n",
    "    flattened_layer=tf.contrib.layers.flatten(x_tensor)\n",
    "    return flattened_layer\n",
    "\n",
    "\n",
    "\"\"\"\n",
    "DON'T MODIFY ANYTHING IN THIS CELL THAT IS BELOW THIS LINE\n",
    "\"\"\"\n",
    "tests.test_flatten(flatten)"
   ]
  },
  {
   "cell_type": "markdown",
   "metadata": {
    "deletable": true,
    "editable": true
   },
   "source": [
    "### Fully-Connected Layer\n",
    "Implement the `fully_conn` function to apply a fully connected layer to `x_tensor` with the shape (*Batch Size*, *num_outputs*). Shortcut option: you can use classes from the [TensorFlow Layers](https://www.tensorflow.org/api_docs/python/tf/layers) or [TensorFlow Layers (contrib)](https://www.tensorflow.org/api_guides/python/contrib.layers) packages for this layer. For more of a challenge, only use other TensorFlow packages."
   ]
  },
  {
   "cell_type": "code",
   "execution_count": 12,
   "metadata": {
    "collapsed": false,
    "deletable": true,
    "editable": true
   },
   "outputs": [
    {
     "name": "stdout",
     "output_type": "stream",
     "text": [
      "Tests Passed\n"
     ]
    }
   ],
   "source": [
    "def fully_conn(x_tensor, num_outputs):\n",
    "    \"\"\"\n",
    "    Apply a fully connected layer to x_tensor using weight and bias\n",
    "    : x_tensor: A 2-D tensor where the first dimension is batch size.\n",
    "    : num_outputs: The number of output that the new tensor should be.\n",
    "    : return: A 2-D tensor where the second dimension is num_outputs.\n",
    "    \"\"\"\n",
    "    # TODO: Implement Function\n",
    "    \n",
    "    fully_connected=tf.contrib.layers.fully_connected(x_tensor, num_outputs)\n",
    "    return  fully_connected\n",
    "\n",
    "\n",
    "\"\"\"\n",
    "DON'T MODIFY ANYTHING IN THIS CELL THAT IS BELOW THIS LINE\n",
    "\"\"\"\n",
    "tests.test_fully_conn(fully_conn)"
   ]
  },
  {
   "cell_type": "markdown",
   "metadata": {
    "deletable": true,
    "editable": true
   },
   "source": [
    "### Output Layer\n",
    "Implement the `output` function to apply a fully connected layer to `x_tensor` with the shape (*Batch Size*, *num_outputs*). Shortcut option: you can use classes from the [TensorFlow Layers](https://www.tensorflow.org/api_docs/python/tf/layers) or [TensorFlow Layers (contrib)](https://www.tensorflow.org/api_guides/python/contrib.layers) packages for this layer. For more of a challenge, only use other TensorFlow packages.\n",
    "\n",
    "**Note:** Activation, softmax, or cross entropy should **not** be applied to this."
   ]
  },
  {
   "cell_type": "code",
   "execution_count": 13,
   "metadata": {
    "collapsed": false,
    "deletable": true,
    "editable": true
   },
   "outputs": [
    {
     "name": "stdout",
     "output_type": "stream",
     "text": [
      "Tests Passed\n"
     ]
    }
   ],
   "source": [
    "def output(x_tensor, num_outputs):\n",
    "    \"\"\"\n",
    "    Apply a output layer to x_tensor using weight and bias\n",
    "    : x_tensor: A 2-D tensor where the first dimension is batch size.\n",
    "    : num_outputs: The number of output that the new tensor should be.\n",
    "    : return: A 2-D tensor where the second dimension is num_outputs.\n",
    "    \"\"\"\n",
    "    # TODO: Implement Function\n",
    "    shape = [int(x_tensor.get_shape()[1]), num_outputs]\n",
    "    w = tf.Variable(tf.truncated_normal(shape = shape, mean = 0, stddev = 0.1))\n",
    "    b = tf.Variable(tf.zeros(num_outputs))\n",
    "    \n",
    "    return tf.add(tf.matmul(x_tensor, w), b)\n",
    "\n",
    "   \n",
    "\n",
    "\n",
    "\"\"\"\n",
    "DON'T MODIFY ANYTHING IN THIS CELL THAT IS BELOW THIS LINE\n",
    "\"\"\"\n",
    "tests.test_output(output)"
   ]
  },
  {
   "cell_type": "markdown",
   "metadata": {
    "deletable": true,
    "editable": true
   },
   "source": [
    "### Create Convolutional Model\n",
    "Implement the function `conv_net` to create a convolutional neural network model. The function takes in a batch of images, `x`, and outputs logits.  Use the layers you created above to create this model:\n",
    "\n",
    "* Apply 1, 2, or 3 Convolution and Max Pool layers\n",
    "* Apply a Flatten Layer\n",
    "* Apply 1, 2, or 3 Fully Connected Layers\n",
    "* Apply an Output Layer\n",
    "* Return the output\n",
    "* Apply [TensorFlow's Dropout](https://www.tensorflow.org/api_docs/python/tf/nn/dropout) to one or more layers in the model using `keep_prob`. "
   ]
  },
  {
   "cell_type": "code",
   "execution_count": 34,
   "metadata": {
    "collapsed": false,
    "deletable": true,
    "editable": true
   },
   "outputs": [
    {
     "name": "stdout",
     "output_type": "stream",
     "text": [
      "Neural Network Built!\n"
     ]
    }
   ],
   "source": [
    "def conv_net(x, keep_prob):\n",
    "    \"\"\"\n",
    "    Create a convolutional neural network model\n",
    "    : x: Placeholder tensor that holds image data.\n",
    "    : keep_prob: Placeholder tensor that hold dropout keep probability.\n",
    "    : return: Tensor that represents logits\n",
    "    \"\"\"\n",
    "    # TODO: Apply 1, 2, or 3 Convolution and Max Pool layers\n",
    "    \n",
    "    #    Play around with different number of outputs, kernel size and stride\n",
    "    # Function Definition from Above:\n",
    "    #    conv2d_maxpool(x_tensor, conv_num_outputs, conv_ksize, conv_strides, pool_ksize, pool_strides)\n",
    "    conv_l=conv2d_maxpool(x, 14, (4, 4), (1, 1), (2, 2), (2, 2))\n",
    "    conv_l=tf.nn.dropout(conv_l,keep_prob)\n",
    "    \n",
    "    conv_l = conv2d_maxpool(x, 24, (4, 4), (1, 1), (2, 2), (2, 2))\n",
    "    conv_l = tf.nn.dropout(conv_l, keep_prob)\n",
    "\n",
    "\n",
    "    # TODO: Apply a Flatten Layer\n",
    "    # Function Definition from Above:\n",
    "    #   flatten(x_tensor)\n",
    "    \n",
    "    conv_l=flatten(conv_l)\n",
    "    \n",
    "\n",
    "    # TODO: Apply 1, 2, or 3 Fully Connected Layers\n",
    "    #    Play around with different number of outputs\n",
    "    # Function Definition from Above:\n",
    "    conv_l = fully_conn(conv_l, 256)\n",
    "    conv_l = tf.nn.dropout(conv_l, keep_prob)\n",
    "    \n",
    "    # Fully Connected Layer 2\n",
    "    conv_l = fully_conn(conv_l, 170)\n",
    "    conv_l = tf.nn.dropout(conv_l, keep_prob)\n",
    "    \n",
    "    \n",
    "    \n",
    "    # TODO: Apply an Output Layer\n",
    "    #    Set this to the number of classes\n",
    "    # Function Definition from Above:\n",
    "    ol=output(conv_l, 10)\n",
    "    \n",
    "    \n",
    "    # TODO: return output\n",
    "    return ol\n",
    "\n",
    "\n",
    "\"\"\"\n",
    "DON'T MODIFY ANYTHING IN THIS CELL THAT IS BELOW THIS LINE\n",
    "\"\"\"\n",
    "\n",
    "##############################\n",
    "## Build the Neural Network ##\n",
    "##############################\n",
    "\n",
    "# Remove previous weights, bias, inputs, etc..\n",
    "tf.reset_default_graph()\n",
    "\n",
    "# Inputs\n",
    "x = neural_net_image_input((32, 32, 3))\n",
    "y = neural_net_label_input(10)\n",
    "keep_prob = neural_net_keep_prob_input()\n",
    "\n",
    "# Model\n",
    "logits = conv_net(x, keep_prob)\n",
    "\n",
    "# Name logits Tensor, so that is can be loaded from disk after training\n",
    "logits = tf.identity(logits, name='logits')\n",
    "\n",
    "# Loss and Optimizer\n",
    "cost = tf.reduce_mean(tf.nn.softmax_cross_entropy_with_logits(logits=logits, labels=y))\n",
    "optimizer = tf.train.AdamOptimizer().minimize(cost)\n",
    "\n",
    "# Accuracy\n",
    "correct_pred = tf.equal(tf.argmax(logits, 1), tf.argmax(y, 1))\n",
    "accuracy = tf.reduce_mean(tf.cast(correct_pred, tf.float32), name='accuracy')\n",
    "\n",
    "tests.test_conv_net(conv_net)"
   ]
  },
  {
   "cell_type": "markdown",
   "metadata": {
    "deletable": true,
    "editable": true
   },
   "source": [
    "## Train the Neural Network\n",
    "### Single Optimization\n",
    "Implement the function `train_neural_network` to do a single optimization.  The optimization should use `optimizer` to optimize in `session` with a `feed_dict` of the following:\n",
    "* `x` for image input\n",
    "* `y` for labels\n",
    "* `keep_prob` for keep probability for dropout\n",
    "\n",
    "This function will be called for each batch, so `tf.global_variables_initializer()` has already been called.\n",
    "\n",
    "Note: Nothing needs to be returned. This function is only optimizing the neural network."
   ]
  },
  {
   "cell_type": "code",
   "execution_count": 35,
   "metadata": {
    "collapsed": false,
    "deletable": true,
    "editable": true
   },
   "outputs": [
    {
     "name": "stdout",
     "output_type": "stream",
     "text": [
      "Tests Passed\n"
     ]
    }
   ],
   "source": [
    "def train_neural_network(session, optimizer, keep_probability, feature_batch, label_batch):\n",
    "    \"\"\"\n",
    "    Optimize the session on a batch of images and labels\n",
    "    : session: Current TensorFlow session\n",
    "    : optimizer: TensorFlow optimizer function\n",
    "    : keep_probability: keep probability\n",
    "    : feature_batch: Batch of Numpy image data\n",
    "    : label_batch: Batch of Numpy label data\n",
    "    \"\"\"\n",
    "    # TODO: Implement Function\n",
    "    session.run(optimizer, feed_dict={x : feature_batch, y : label_batch, keep_prob : keep_probability})\n",
    "\n",
    "\n",
    "\"\"\"\n",
    "DON'T MODIFY ANYTHING IN THIS CELL THAT IS BELOW THIS LINE\n",
    "\"\"\"\n",
    "tests.test_train_nn(train_neural_network)"
   ]
  },
  {
   "cell_type": "markdown",
   "metadata": {
    "deletable": true,
    "editable": true
   },
   "source": [
    "### Show Stats\n",
    "Implement the function `print_stats` to print loss and validation accuracy.  Use the global variables `valid_features` and `valid_labels` to calculate validation accuracy.  Use a keep probability of `1.0` to calculate the loss and validation accuracy."
   ]
  },
  {
   "cell_type": "code",
   "execution_count": 36,
   "metadata": {
    "collapsed": false,
    "deletable": true,
    "editable": true
   },
   "outputs": [],
   "source": [
    "def print_stats(session, feature_batch, label_batch, cost, accuracy):\n",
    "    \"\"\"\n",
    "    Print information about loss and validation accuracy\n",
    "    : session: Current TensorFlow session\n",
    "    : feature_batch: Batch of Numpy image data\n",
    "    : label_batch: Batch of Numpy label data\n",
    "    : cost: TensorFlow cost function\n",
    "    : accuracy: TensorFlow accuracy function\n",
    "    \"\"\"\n",
    "    # TODO: Implement Function\n",
    "    # Calculate loss\n",
    "    loss = session.run(cost, feed_dict={x : feature_batch, y : label_batch, keep_prob : 1.0})\n",
    "    # Calculate Validation Accuracy\n",
    "    val_acc = session.run(accuracy, feed_dict={x : valid_features, y : valid_labels, keep_prob : 1.0})\n",
    "    \n",
    "    # Print Calculated Values\n",
    "    print('Loss : {:>10.3f} Validation Accuracy {:.5f}'.format(loss, val_acc))"
   ]
  },
  {
   "cell_type": "markdown",
   "metadata": {
    "deletable": true,
    "editable": true
   },
   "source": [
    "### Hyperparameters\n",
    "Tune the following parameters:\n",
    "* Set `epochs` to the number of iterations until the network stops learning or start overfitting\n",
    "* Set `batch_size` to the highest number that your machine has memory for.  Most people set them to common sizes of memory:\n",
    " * 64\n",
    " * 128\n",
    " * 256\n",
    " * ...\n",
    "* Set `keep_probability` to the probability of keeping a node using dropout"
   ]
  },
  {
   "cell_type": "code",
   "execution_count": 50,
   "metadata": {
    "collapsed": true,
    "deletable": true,
    "editable": true
   },
   "outputs": [],
   "source": [
    "# TODO: Tune Parameters\n",
    "epochs = 50\n",
    "batch_size = 256\n",
    "keep_probability = 0.5"
   ]
  },
  {
   "cell_type": "markdown",
   "metadata": {
    "deletable": true,
    "editable": true
   },
   "source": [
    "### Train on a Single CIFAR-10 Batch\n",
    "Instead of training the neural network on all the CIFAR-10 batches of data, let's use a single batch. This should save time while you iterate on the model to get a better accuracy.  Once the final validation accuracy is 50% or greater, run the model on all the data in the next section."
   ]
  },
  {
   "cell_type": "code",
   "execution_count": 49,
   "metadata": {
    "collapsed": false,
    "deletable": true,
    "editable": true
   },
   "outputs": [
    {
     "name": "stdout",
     "output_type": "stream",
     "text": [
      "Checking the Training on a Single Batch...\n",
      "Epoch  1, CIFAR-10 Batch 1:  Loss :      2.303 Validation Accuracy 0.09720\n",
      "Epoch  2, CIFAR-10 Batch 1:  Loss :      2.303 Validation Accuracy 0.10040\n",
      "Epoch  3, CIFAR-10 Batch 1:  Loss :      2.303 Validation Accuracy 0.09980\n",
      "Epoch  4, CIFAR-10 Batch 1:  Loss :      2.303 Validation Accuracy 0.09980\n",
      "Epoch  5, CIFAR-10 Batch 1:  Loss :      2.303 Validation Accuracy 0.09980\n",
      "Epoch  6, CIFAR-10 Batch 1:  Loss :      2.303 Validation Accuracy 0.09980\n",
      "Epoch  7, CIFAR-10 Batch 1:  Loss :      2.303 Validation Accuracy 0.09980\n",
      "Epoch  8, CIFAR-10 Batch 1:  Loss :      2.303 Validation Accuracy 0.10500\n",
      "Epoch  9, CIFAR-10 Batch 1:  Loss :      2.303 Validation Accuracy 0.10500\n",
      "Epoch 10, CIFAR-10 Batch 1:  Loss :      2.303 Validation Accuracy 0.10500\n",
      "Epoch 11, CIFAR-10 Batch 1:  Loss :      2.302 Validation Accuracy 0.10380\n",
      "Epoch 12, CIFAR-10 Batch 1:  Loss :      2.303 Validation Accuracy 0.10500\n",
      "Epoch 13, CIFAR-10 Batch 1:  Loss :      2.303 Validation Accuracy 0.10500\n",
      "Epoch 14, CIFAR-10 Batch 1:  Loss :      2.303 Validation Accuracy 0.10500\n",
      "Epoch 15, CIFAR-10 Batch 1:  Loss :      2.303 Validation Accuracy 0.10540\n",
      "Epoch 16, CIFAR-10 Batch 1:  Loss :      2.303 Validation Accuracy 0.10500\n",
      "Epoch 17, CIFAR-10 Batch 1:  Loss :      2.303 Validation Accuracy 0.10500\n",
      "Epoch 18, CIFAR-10 Batch 1:  Loss :      2.303 Validation Accuracy 0.10500\n",
      "Epoch 19, CIFAR-10 Batch 1:  Loss :      2.303 Validation Accuracy 0.10500\n",
      "Epoch 20, CIFAR-10 Batch 1:  Loss :      2.303 Validation Accuracy 0.10500\n",
      "Epoch 21, CIFAR-10 Batch 1:  Loss :      2.303 Validation Accuracy 0.10740\n",
      "Epoch 22, CIFAR-10 Batch 1:  Loss :      2.303 Validation Accuracy 0.10500\n",
      "Epoch 23, CIFAR-10 Batch 1:  Loss :      2.303 Validation Accuracy 0.10500\n",
      "Epoch 24, CIFAR-10 Batch 1:  Loss :      2.303 Validation Accuracy 0.10500\n",
      "Epoch 25, CIFAR-10 Batch 1:  Loss :      2.303 Validation Accuracy 0.10500\n",
      "Epoch 26, CIFAR-10 Batch 1:  Loss :      2.303 Validation Accuracy 0.10500\n",
      "Epoch 27, CIFAR-10 Batch 1:  Loss :      2.303 Validation Accuracy 0.10500\n",
      "Epoch 28, CIFAR-10 Batch 1:  Loss :      2.303 Validation Accuracy 0.10500\n",
      "Epoch 29, CIFAR-10 Batch 1:  Loss :      2.303 Validation Accuracy 0.10500\n",
      "Epoch 30, CIFAR-10 Batch 1:  Loss :      2.303 Validation Accuracy 0.10500\n",
      "Epoch 31, CIFAR-10 Batch 1:  Loss :      2.302 Validation Accuracy 0.10500\n",
      "Epoch 32, CIFAR-10 Batch 1:  Loss :      2.303 Validation Accuracy 0.10500\n",
      "Epoch 33, CIFAR-10 Batch 1:  Loss :      2.303 Validation Accuracy 0.10500\n",
      "Epoch 34, CIFAR-10 Batch 1:  Loss :      2.303 Validation Accuracy 0.10500\n",
      "Epoch 35, CIFAR-10 Batch 1:  Loss :      2.302 Validation Accuracy 0.10500\n",
      "Epoch 36, CIFAR-10 Batch 1:  Loss :      2.303 Validation Accuracy 0.10500\n",
      "Epoch 37, CIFAR-10 Batch 1:  Loss :      2.303 Validation Accuracy 0.10500\n",
      "Epoch 38, CIFAR-10 Batch 1:  Loss :      2.302 Validation Accuracy 0.10500\n",
      "Epoch 39, CIFAR-10 Batch 1:  Loss :      2.302 Validation Accuracy 0.10500\n",
      "Epoch 40, CIFAR-10 Batch 1:  Loss :      2.302 Validation Accuracy 0.10500\n",
      "Epoch 41, CIFAR-10 Batch 1:  Loss :      2.302 Validation Accuracy 0.10500\n",
      "Epoch 42, CIFAR-10 Batch 1:  Loss :      2.302 Validation Accuracy 0.10500\n",
      "Epoch 43, CIFAR-10 Batch 1:  Loss :      2.303 Validation Accuracy 0.10500\n",
      "Epoch 44, CIFAR-10 Batch 1:  Loss :      2.303 Validation Accuracy 0.10500\n",
      "Epoch 45, CIFAR-10 Batch 1:  Loss :      2.302 Validation Accuracy 0.10500\n",
      "Epoch 46, CIFAR-10 Batch 1:  Loss :      2.303 Validation Accuracy 0.10500\n",
      "Epoch 47, CIFAR-10 Batch 1:  Loss :      2.303 Validation Accuracy 0.10500\n",
      "Epoch 48, CIFAR-10 Batch 1:  Loss :      2.303 Validation Accuracy 0.10500\n",
      "Epoch 49, CIFAR-10 Batch 1:  Loss :      2.303 Validation Accuracy 0.10500\n",
      "Epoch 50, CIFAR-10 Batch 1:  Loss :      2.303 Validation Accuracy 0.10500\n"
     ]
    }
   ],
   "source": [
    "\"\"\"\n",
    "DON'T MODIFY ANYTHING IN THIS CELL\n",
    "\"\"\"\n",
    "print('Checking the Training on a Single Batch...')\n",
    "with tf.Session() as sess:\n",
    "    # Initializing the variables\n",
    "    sess.run(tf.global_variables_initializer())\n",
    "    \n",
    "    # Training cycle\n",
    "    for epoch in range(epochs):\n",
    "        batch_i = 1\n",
    "        for batch_features, batch_labels in helper.load_preprocess_training_batch(batch_i, batch_size):\n",
    "            train_neural_network(sess, optimizer, keep_probability, batch_features, batch_labels)\n",
    "        print('Epoch {:>2}, CIFAR-10 Batch {}:  '.format(epoch + 1, batch_i), end='')\n",
    "        print_stats(sess, batch_features, batch_labels, cost, accuracy)"
   ]
  },
  {
   "cell_type": "markdown",
   "metadata": {
    "deletable": true,
    "editable": true
   },
   "source": [
    "### Fully Train the Model\n",
    "Now that you got a good accuracy with a single CIFAR-10 batch, try it with all five batches."
   ]
  },
  {
   "cell_type": "code",
   "execution_count": 51,
   "metadata": {
    "collapsed": false,
    "deletable": true,
    "editable": true
   },
   "outputs": [
    {
     "name": "stdout",
     "output_type": "stream",
     "text": [
      "Training...\n",
      "Epoch  1, CIFAR-10 Batch 1:  Loss :      2.255 Validation Accuracy 0.18320\n",
      "Epoch  1, CIFAR-10 Batch 2:  Loss :      2.274 Validation Accuracy 0.17240\n",
      "Epoch  1, CIFAR-10 Batch 3:  Loss :      2.188 Validation Accuracy 0.18280\n",
      "Epoch  1, CIFAR-10 Batch 4:  Loss :      2.210 Validation Accuracy 0.18360\n",
      "Epoch  1, CIFAR-10 Batch 5:  Loss :      2.173 Validation Accuracy 0.19420\n",
      "Epoch  2, CIFAR-10 Batch 1:  Loss :      2.221 Validation Accuracy 0.17900\n",
      "Epoch  2, CIFAR-10 Batch 2:  Loss :      2.151 Validation Accuracy 0.19600\n",
      "Epoch  2, CIFAR-10 Batch 3:  Loss :      2.048 Validation Accuracy 0.20520\n",
      "Epoch  2, CIFAR-10 Batch 4:  Loss :      2.078 Validation Accuracy 0.18800\n",
      "Epoch  2, CIFAR-10 Batch 5:  Loss :      2.062 Validation Accuracy 0.19780\n",
      "Epoch  3, CIFAR-10 Batch 1:  Loss :      2.189 Validation Accuracy 0.16540\n",
      "Epoch  3, CIFAR-10 Batch 2:  Loss :      2.062 Validation Accuracy 0.18800\n",
      "Epoch  3, CIFAR-10 Batch 3:  Loss :      1.960 Validation Accuracy 0.20180\n",
      "Epoch  3, CIFAR-10 Batch 4:  Loss :      1.994 Validation Accuracy 0.22320\n",
      "Epoch  3, CIFAR-10 Batch 5:  Loss :      1.938 Validation Accuracy 0.22740\n",
      "Epoch  4, CIFAR-10 Batch 1:  Loss :      2.073 Validation Accuracy 0.25140\n",
      "Epoch  4, CIFAR-10 Batch 2:  Loss :      2.002 Validation Accuracy 0.24640\n",
      "Epoch  4, CIFAR-10 Batch 3:  Loss :      1.821 Validation Accuracy 0.24820\n",
      "Epoch  4, CIFAR-10 Batch 4:  Loss :      1.894 Validation Accuracy 0.23920\n",
      "Epoch  4, CIFAR-10 Batch 5:  Loss :      1.871 Validation Accuracy 0.25520\n",
      "Epoch  5, CIFAR-10 Batch 1:  Loss :      2.067 Validation Accuracy 0.26720\n",
      "Epoch  5, CIFAR-10 Batch 2:  Loss :      1.922 Validation Accuracy 0.26900\n",
      "Epoch  5, CIFAR-10 Batch 3:  Loss :      1.760 Validation Accuracy 0.27060\n",
      "Epoch  5, CIFAR-10 Batch 4:  Loss :      1.835 Validation Accuracy 0.26360\n",
      "Epoch  5, CIFAR-10 Batch 5:  Loss :      1.820 Validation Accuracy 0.27580\n",
      "Epoch  6, CIFAR-10 Batch 1:  Loss :      2.017 Validation Accuracy 0.26440\n",
      "Epoch  6, CIFAR-10 Batch 2:  Loss :      1.925 Validation Accuracy 0.25600\n",
      "Epoch  6, CIFAR-10 Batch 3:  Loss :      1.733 Validation Accuracy 0.27860\n",
      "Epoch  6, CIFAR-10 Batch 4:  Loss :      1.791 Validation Accuracy 0.27320\n",
      "Epoch  6, CIFAR-10 Batch 5:  Loss :      1.760 Validation Accuracy 0.27220\n",
      "Epoch  7, CIFAR-10 Batch 1:  Loss :      1.944 Validation Accuracy 0.27420\n",
      "Epoch  7, CIFAR-10 Batch 2:  Loss :      1.855 Validation Accuracy 0.26260\n",
      "Epoch  7, CIFAR-10 Batch 3:  Loss :      1.679 Validation Accuracy 0.28680\n",
      "Epoch  7, CIFAR-10 Batch 4:  Loss :      1.749 Validation Accuracy 0.28620\n",
      "Epoch  7, CIFAR-10 Batch 5:  Loss :      1.730 Validation Accuracy 0.28320\n",
      "Epoch  8, CIFAR-10 Batch 1:  Loss :      1.908 Validation Accuracy 0.28040\n",
      "Epoch  8, CIFAR-10 Batch 2:  Loss :      1.830 Validation Accuracy 0.27520\n",
      "Epoch  8, CIFAR-10 Batch 3:  Loss :      1.682 Validation Accuracy 0.29080\n",
      "Epoch  8, CIFAR-10 Batch 4:  Loss :      1.764 Validation Accuracy 0.28440\n",
      "Epoch  8, CIFAR-10 Batch 5:  Loss :      1.742 Validation Accuracy 0.27800\n",
      "Epoch  9, CIFAR-10 Batch 1:  Loss :      1.848 Validation Accuracy 0.28340\n",
      "Epoch  9, CIFAR-10 Batch 2:  Loss :      1.809 Validation Accuracy 0.27320\n",
      "Epoch  9, CIFAR-10 Batch 3:  Loss :      1.656 Validation Accuracy 0.29300\n",
      "Epoch  9, CIFAR-10 Batch 4:  Loss :      1.732 Validation Accuracy 0.30400\n",
      "Epoch  9, CIFAR-10 Batch 5:  Loss :      1.660 Validation Accuracy 0.30100\n",
      "Epoch 10, CIFAR-10 Batch 1:  Loss :      1.842 Validation Accuracy 0.32120\n",
      "Epoch 10, CIFAR-10 Batch 2:  Loss :      1.724 Validation Accuracy 0.30800\n",
      "Epoch 10, CIFAR-10 Batch 3:  Loss :      1.618 Validation Accuracy 0.33180\n",
      "Epoch 10, CIFAR-10 Batch 4:  Loss :      1.701 Validation Accuracy 0.32040\n",
      "Epoch 10, CIFAR-10 Batch 5:  Loss :      1.642 Validation Accuracy 0.32000\n",
      "Epoch 11, CIFAR-10 Batch 1:  Loss :      1.776 Validation Accuracy 0.34840\n",
      "Epoch 11, CIFAR-10 Batch 2:  Loss :      1.670 Validation Accuracy 0.32860\n",
      "Epoch 11, CIFAR-10 Batch 3:  Loss :      1.527 Validation Accuracy 0.36760\n",
      "Epoch 11, CIFAR-10 Batch 4:  Loss :      1.637 Validation Accuracy 0.35960\n",
      "Epoch 11, CIFAR-10 Batch 5:  Loss :      1.617 Validation Accuracy 0.37640\n",
      "Epoch 12, CIFAR-10 Batch 1:  Loss :      1.742 Validation Accuracy 0.37640\n",
      "Epoch 12, CIFAR-10 Batch 2:  Loss :      1.637 Validation Accuracy 0.34000\n",
      "Epoch 12, CIFAR-10 Batch 3:  Loss :      1.499 Validation Accuracy 0.37900\n",
      "Epoch 12, CIFAR-10 Batch 4:  Loss :      1.619 Validation Accuracy 0.38280\n",
      "Epoch 12, CIFAR-10 Batch 5:  Loss :      1.580 Validation Accuracy 0.38460\n",
      "Epoch 13, CIFAR-10 Batch 1:  Loss :      1.653 Validation Accuracy 0.40200\n",
      "Epoch 13, CIFAR-10 Batch 2:  Loss :      1.556 Validation Accuracy 0.37180\n",
      "Epoch 13, CIFAR-10 Batch 3:  Loss :      1.459 Validation Accuracy 0.40360\n",
      "Epoch 13, CIFAR-10 Batch 4:  Loss :      1.559 Validation Accuracy 0.39700\n",
      "Epoch 13, CIFAR-10 Batch 5:  Loss :      1.618 Validation Accuracy 0.38020\n",
      "Epoch 14, CIFAR-10 Batch 1:  Loss :      1.628 Validation Accuracy 0.39800\n",
      "Epoch 14, CIFAR-10 Batch 2:  Loss :      1.551 Validation Accuracy 0.37080\n",
      "Epoch 14, CIFAR-10 Batch 3:  Loss :      1.425 Validation Accuracy 0.41920\n",
      "Epoch 14, CIFAR-10 Batch 4:  Loss :      1.538 Validation Accuracy 0.41680\n",
      "Epoch 14, CIFAR-10 Batch 5:  Loss :      1.517 Validation Accuracy 0.39540\n",
      "Epoch 15, CIFAR-10 Batch 1:  Loss :      1.604 Validation Accuracy 0.42120\n",
      "Epoch 15, CIFAR-10 Batch 2:  Loss :      1.505 Validation Accuracy 0.39460\n",
      "Epoch 15, CIFAR-10 Batch 3:  Loss :      1.381 Validation Accuracy 0.42480\n",
      "Epoch 15, CIFAR-10 Batch 4:  Loss :      1.501 Validation Accuracy 0.43400\n",
      "Epoch 15, CIFAR-10 Batch 5:  Loss :      1.550 Validation Accuracy 0.40160\n",
      "Epoch 16, CIFAR-10 Batch 1:  Loss :      1.557 Validation Accuracy 0.43880\n",
      "Epoch 16, CIFAR-10 Batch 2:  Loss :      1.479 Validation Accuracy 0.43160\n",
      "Epoch 16, CIFAR-10 Batch 3:  Loss :      1.328 Validation Accuracy 0.44420\n",
      "Epoch 16, CIFAR-10 Batch 4:  Loss :      1.451 Validation Accuracy 0.43960\n",
      "Epoch 16, CIFAR-10 Batch 5:  Loss :      1.494 Validation Accuracy 0.44760\n",
      "Epoch 17, CIFAR-10 Batch 1:  Loss :      1.510 Validation Accuracy 0.46280\n",
      "Epoch 17, CIFAR-10 Batch 2:  Loss :      1.468 Validation Accuracy 0.44660\n",
      "Epoch 17, CIFAR-10 Batch 3:  Loss :      1.275 Validation Accuracy 0.46380\n",
      "Epoch 17, CIFAR-10 Batch 4:  Loss :      1.407 Validation Accuracy 0.46160\n",
      "Epoch 17, CIFAR-10 Batch 5:  Loss :      1.462 Validation Accuracy 0.45260\n",
      "Epoch 18, CIFAR-10 Batch 1:  Loss :      1.423 Validation Accuracy 0.47420\n",
      "Epoch 18, CIFAR-10 Batch 2:  Loss :      1.364 Validation Accuracy 0.46140\n",
      "Epoch 18, CIFAR-10 Batch 3:  Loss :      1.226 Validation Accuracy 0.47520\n",
      "Epoch 18, CIFAR-10 Batch 4:  Loss :      1.395 Validation Accuracy 0.47880\n",
      "Epoch 18, CIFAR-10 Batch 5:  Loss :      1.397 Validation Accuracy 0.47920\n",
      "Epoch 19, CIFAR-10 Batch 1:  Loss :      1.421 Validation Accuracy 0.48200\n",
      "Epoch 19, CIFAR-10 Batch 2:  Loss :      1.363 Validation Accuracy 0.46720\n",
      "Epoch 19, CIFAR-10 Batch 3:  Loss :      1.198 Validation Accuracy 0.49140\n",
      "Epoch 19, CIFAR-10 Batch 4:  Loss :      1.359 Validation Accuracy 0.48160\n",
      "Epoch 19, CIFAR-10 Batch 5:  Loss :      1.357 Validation Accuracy 0.47620\n",
      "Epoch 20, CIFAR-10 Batch 1:  Loss :      1.403 Validation Accuracy 0.48960\n",
      "Epoch 20, CIFAR-10 Batch 2:  Loss :      1.365 Validation Accuracy 0.45640\n",
      "Epoch 20, CIFAR-10 Batch 3:  Loss :      1.156 Validation Accuracy 0.48700\n",
      "Epoch 20, CIFAR-10 Batch 4:  Loss :      1.361 Validation Accuracy 0.47440\n",
      "Epoch 20, CIFAR-10 Batch 5:  Loss :      1.351 Validation Accuracy 0.47560\n",
      "Epoch 21, CIFAR-10 Batch 1:  Loss :      1.385 Validation Accuracy 0.48020\n",
      "Epoch 21, CIFAR-10 Batch 2:  Loss :      1.336 Validation Accuracy 0.46220\n",
      "Epoch 21, CIFAR-10 Batch 3:  Loss :      1.172 Validation Accuracy 0.49040\n",
      "Epoch 21, CIFAR-10 Batch 4:  Loss :      1.325 Validation Accuracy 0.48980\n",
      "Epoch 21, CIFAR-10 Batch 5:  Loss :      1.330 Validation Accuracy 0.47400\n",
      "Epoch 22, CIFAR-10 Batch 1:  Loss :      1.392 Validation Accuracy 0.48480\n",
      "Epoch 22, CIFAR-10 Batch 2:  Loss :      1.253 Validation Accuracy 0.47540\n",
      "Epoch 22, CIFAR-10 Batch 3:  Loss :      1.124 Validation Accuracy 0.49800\n",
      "Epoch 22, CIFAR-10 Batch 4:  Loss :      1.290 Validation Accuracy 0.49940\n",
      "Epoch 22, CIFAR-10 Batch 5:  Loss :      1.304 Validation Accuracy 0.48000\n",
      "Epoch 23, CIFAR-10 Batch 1:  Loss :      1.318 Validation Accuracy 0.48600\n",
      "Epoch 23, CIFAR-10 Batch 2:  Loss :      1.265 Validation Accuracy 0.47340\n",
      "Epoch 23, CIFAR-10 Batch 3:  Loss :      1.118 Validation Accuracy 0.49400\n",
      "Epoch 23, CIFAR-10 Batch 4:  Loss :      1.257 Validation Accuracy 0.50640\n",
      "Epoch 23, CIFAR-10 Batch 5:  Loss :      1.309 Validation Accuracy 0.48500\n",
      "Epoch 24, CIFAR-10 Batch 1:  Loss :      1.278 Validation Accuracy 0.49720\n",
      "Epoch 24, CIFAR-10 Batch 2:  Loss :      1.247 Validation Accuracy 0.48560\n",
      "Epoch 24, CIFAR-10 Batch 3:  Loss :      1.126 Validation Accuracy 0.48220\n",
      "Epoch 24, CIFAR-10 Batch 4:  Loss :      1.250 Validation Accuracy 0.49260\n",
      "Epoch 24, CIFAR-10 Batch 5:  Loss :      1.302 Validation Accuracy 0.47580\n",
      "Epoch 25, CIFAR-10 Batch 1:  Loss :      1.265 Validation Accuracy 0.50060\n",
      "Epoch 25, CIFAR-10 Batch 2:  Loss :      1.199 Validation Accuracy 0.47980\n",
      "Epoch 25, CIFAR-10 Batch 3:  Loss :      1.107 Validation Accuracy 0.48520\n",
      "Epoch 25, CIFAR-10 Batch 4:  Loss :      1.223 Validation Accuracy 0.50440\n",
      "Epoch 25, CIFAR-10 Batch 5:  Loss :      1.302 Validation Accuracy 0.48140\n",
      "Epoch 26, CIFAR-10 Batch 1:  Loss :      1.216 Validation Accuracy 0.50760\n",
      "Epoch 26, CIFAR-10 Batch 2:  Loss :      1.179 Validation Accuracy 0.47940\n",
      "Epoch 26, CIFAR-10 Batch 3:  Loss :      1.079 Validation Accuracy 0.50380\n",
      "Epoch 26, CIFAR-10 Batch 4:  Loss :      1.255 Validation Accuracy 0.49560\n",
      "Epoch 26, CIFAR-10 Batch 5:  Loss :      1.270 Validation Accuracy 0.50060\n",
      "Epoch 27, CIFAR-10 Batch 1:  Loss :      1.202 Validation Accuracy 0.51480\n",
      "Epoch 27, CIFAR-10 Batch 2:  Loss :      1.166 Validation Accuracy 0.48940\n",
      "Epoch 27, CIFAR-10 Batch 3:  Loss :      1.100 Validation Accuracy 0.48400\n",
      "Epoch 27, CIFAR-10 Batch 4:  Loss :      1.234 Validation Accuracy 0.50180\n",
      "Epoch 27, CIFAR-10 Batch 5:  Loss :      1.279 Validation Accuracy 0.49760\n",
      "Epoch 28, CIFAR-10 Batch 1:  Loss :      1.226 Validation Accuracy 0.51580\n",
      "Epoch 28, CIFAR-10 Batch 2:  Loss :      1.184 Validation Accuracy 0.48540\n",
      "Epoch 28, CIFAR-10 Batch 3:  Loss :      1.093 Validation Accuracy 0.49040\n",
      "Epoch 28, CIFAR-10 Batch 4:  Loss :      1.212 Validation Accuracy 0.50800\n",
      "Epoch 28, CIFAR-10 Batch 5:  Loss :      1.265 Validation Accuracy 0.50160\n",
      "Epoch 29, CIFAR-10 Batch 1:  Loss :      1.199 Validation Accuracy 0.51180\n",
      "Epoch 29, CIFAR-10 Batch 2:  Loss :      1.152 Validation Accuracy 0.48360\n",
      "Epoch 29, CIFAR-10 Batch 3:  Loss :      1.057 Validation Accuracy 0.50500\n",
      "Epoch 29, CIFAR-10 Batch 4:  Loss :      1.229 Validation Accuracy 0.50740\n",
      "Epoch 29, CIFAR-10 Batch 5:  Loss :      1.256 Validation Accuracy 0.50460\n",
      "Epoch 30, CIFAR-10 Batch 1:  Loss :      1.206 Validation Accuracy 0.52560\n",
      "Epoch 30, CIFAR-10 Batch 2:  Loss :      1.153 Validation Accuracy 0.49420\n",
      "Epoch 30, CIFAR-10 Batch 3:  Loss :      1.024 Validation Accuracy 0.50800\n",
      "Epoch 30, CIFAR-10 Batch 4:  Loss :      1.198 Validation Accuracy 0.50240\n",
      "Epoch 30, CIFAR-10 Batch 5:  Loss :      1.245 Validation Accuracy 0.49340\n",
      "Epoch 31, CIFAR-10 Batch 1:  Loss :      1.179 Validation Accuracy 0.51600\n",
      "Epoch 31, CIFAR-10 Batch 2:  Loss :      1.139 Validation Accuracy 0.48600\n",
      "Epoch 31, CIFAR-10 Batch 3:  Loss :      1.007 Validation Accuracy 0.52520\n",
      "Epoch 31, CIFAR-10 Batch 4:  Loss :      1.235 Validation Accuracy 0.50260\n",
      "Epoch 31, CIFAR-10 Batch 5:  Loss :      1.263 Validation Accuracy 0.50380\n",
      "Epoch 32, CIFAR-10 Batch 1:  Loss :      1.175 Validation Accuracy 0.51600\n",
      "Epoch 32, CIFAR-10 Batch 2:  Loss :      1.123 Validation Accuracy 0.49960\n",
      "Epoch 32, CIFAR-10 Batch 3:  Loss :      0.996 Validation Accuracy 0.52260\n",
      "Epoch 32, CIFAR-10 Batch 4:  Loss :      1.201 Validation Accuracy 0.52500\n",
      "Epoch 32, CIFAR-10 Batch 5:  Loss :      1.153 Validation Accuracy 0.52060\n",
      "Epoch 33, CIFAR-10 Batch 1:  Loss :      1.120 Validation Accuracy 0.51360\n",
      "Epoch 33, CIFAR-10 Batch 2:  Loss :      1.076 Validation Accuracy 0.49700\n",
      "Epoch 33, CIFAR-10 Batch 3:  Loss :      1.009 Validation Accuracy 0.50440\n",
      "Epoch 33, CIFAR-10 Batch 4:  Loss :      1.217 Validation Accuracy 0.51720\n",
      "Epoch 33, CIFAR-10 Batch 5:  Loss :      1.223 Validation Accuracy 0.49860\n",
      "Epoch 34, CIFAR-10 Batch 1:  Loss :      1.181 Validation Accuracy 0.50620\n",
      "Epoch 34, CIFAR-10 Batch 2:  Loss :      1.076 Validation Accuracy 0.50480\n",
      "Epoch 34, CIFAR-10 Batch 3:  Loss :      1.016 Validation Accuracy 0.52000\n",
      "Epoch 34, CIFAR-10 Batch 4:  Loss :      1.241 Validation Accuracy 0.51520\n",
      "Epoch 34, CIFAR-10 Batch 5:  Loss :      1.203 Validation Accuracy 0.51280\n",
      "Epoch 35, CIFAR-10 Batch 1:  Loss :      1.141 Validation Accuracy 0.52400\n",
      "Epoch 35, CIFAR-10 Batch 2:  Loss :      1.060 Validation Accuracy 0.50140\n",
      "Epoch 35, CIFAR-10 Batch 3:  Loss :      1.030 Validation Accuracy 0.53000\n",
      "Epoch 35, CIFAR-10 Batch 4:  Loss :      1.195 Validation Accuracy 0.49880\n",
      "Epoch 35, CIFAR-10 Batch 5:  Loss :      1.200 Validation Accuracy 0.51020\n",
      "Epoch 36, CIFAR-10 Batch 1:  Loss :      1.130 Validation Accuracy 0.52780\n",
      "Epoch 36, CIFAR-10 Batch 2:  Loss :      1.075 Validation Accuracy 0.51320\n",
      "Epoch 36, CIFAR-10 Batch 3:  Loss :      0.990 Validation Accuracy 0.52460\n",
      "Epoch 36, CIFAR-10 Batch 4:  Loss :      1.173 Validation Accuracy 0.52380\n",
      "Epoch 36, CIFAR-10 Batch 5:  Loss :      1.209 Validation Accuracy 0.51120\n",
      "Epoch 37, CIFAR-10 Batch 1:  Loss :      1.119 Validation Accuracy 0.51900\n",
      "Epoch 37, CIFAR-10 Batch 2:  Loss :      0.982 Validation Accuracy 0.50860\n",
      "Epoch 37, CIFAR-10 Batch 3:  Loss :      1.009 Validation Accuracy 0.53600\n",
      "Epoch 37, CIFAR-10 Batch 4:  Loss :      1.170 Validation Accuracy 0.52100\n",
      "Epoch 37, CIFAR-10 Batch 5:  Loss :      1.187 Validation Accuracy 0.51300\n",
      "Epoch 38, CIFAR-10 Batch 1:  Loss :      1.107 Validation Accuracy 0.52320\n",
      "Epoch 38, CIFAR-10 Batch 2:  Loss :      1.040 Validation Accuracy 0.50340\n",
      "Epoch 38, CIFAR-10 Batch 3:  Loss :      1.009 Validation Accuracy 0.53620\n",
      "Epoch 38, CIFAR-10 Batch 4:  Loss :      1.152 Validation Accuracy 0.52900\n",
      "Epoch 38, CIFAR-10 Batch 5:  Loss :      1.161 Validation Accuracy 0.53060\n",
      "Epoch 39, CIFAR-10 Batch 1:  Loss :      1.142 Validation Accuracy 0.52640\n",
      "Epoch 39, CIFAR-10 Batch 2:  Loss :      1.019 Validation Accuracy 0.50460\n",
      "Epoch 39, CIFAR-10 Batch 3:  Loss :      0.978 Validation Accuracy 0.53400\n",
      "Epoch 39, CIFAR-10 Batch 4:  Loss :      1.136 Validation Accuracy 0.53500\n",
      "Epoch 39, CIFAR-10 Batch 5:  Loss :      1.143 Validation Accuracy 0.50820\n",
      "Epoch 40, CIFAR-10 Batch 1:  Loss :      1.097 Validation Accuracy 0.54020\n",
      "Epoch 40, CIFAR-10 Batch 2:  Loss :      0.983 Validation Accuracy 0.51400\n",
      "Epoch 40, CIFAR-10 Batch 3:  Loss :      0.960 Validation Accuracy 0.52880\n",
      "Epoch 40, CIFAR-10 Batch 4:  Loss :      1.163 Validation Accuracy 0.51980\n",
      "Epoch 40, CIFAR-10 Batch 5:  Loss :      1.194 Validation Accuracy 0.51760\n",
      "Epoch 41, CIFAR-10 Batch 1:  Loss :      1.076 Validation Accuracy 0.53380\n",
      "Epoch 41, CIFAR-10 Batch 2:  Loss :      1.034 Validation Accuracy 0.51440\n",
      "Epoch 41, CIFAR-10 Batch 3:  Loss :      0.947 Validation Accuracy 0.53720\n",
      "Epoch 41, CIFAR-10 Batch 4:  Loss :      1.135 Validation Accuracy 0.52800\n",
      "Epoch 41, CIFAR-10 Batch 5:  Loss :      1.196 Validation Accuracy 0.50280\n",
      "Epoch 42, CIFAR-10 Batch 1:  Loss :      1.077 Validation Accuracy 0.53560\n",
      "Epoch 42, CIFAR-10 Batch 2:  Loss :      0.956 Validation Accuracy 0.52480\n",
      "Epoch 42, CIFAR-10 Batch 3:  Loss :      0.962 Validation Accuracy 0.52780\n",
      "Epoch 42, CIFAR-10 Batch 4:  Loss :      1.105 Validation Accuracy 0.54040\n",
      "Epoch 42, CIFAR-10 Batch 5:  Loss :      1.150 Validation Accuracy 0.52760\n",
      "Epoch 43, CIFAR-10 Batch 1:  Loss :      1.013 Validation Accuracy 0.54940\n",
      "Epoch 43, CIFAR-10 Batch 2:  Loss :      0.994 Validation Accuracy 0.52600\n",
      "Epoch 43, CIFAR-10 Batch 3:  Loss :      0.926 Validation Accuracy 0.54320\n",
      "Epoch 43, CIFAR-10 Batch 4:  Loss :      1.132 Validation Accuracy 0.53340\n",
      "Epoch 43, CIFAR-10 Batch 5:  Loss :      1.150 Validation Accuracy 0.52220\n",
      "Epoch 44, CIFAR-10 Batch 1:  Loss :      1.058 Validation Accuracy 0.53540\n",
      "Epoch 44, CIFAR-10 Batch 2:  Loss :      0.996 Validation Accuracy 0.53180\n",
      "Epoch 44, CIFAR-10 Batch 3:  Loss :      0.925 Validation Accuracy 0.54900\n",
      "Epoch 44, CIFAR-10 Batch 4:  Loss :      1.071 Validation Accuracy 0.54960\n",
      "Epoch 44, CIFAR-10 Batch 5:  Loss :      1.130 Validation Accuracy 0.52820\n",
      "Epoch 45, CIFAR-10 Batch 1:  Loss :      1.042 Validation Accuracy 0.54280\n",
      "Epoch 45, CIFAR-10 Batch 2:  Loss :      0.978 Validation Accuracy 0.52900\n",
      "Epoch 45, CIFAR-10 Batch 3:  Loss :      0.894 Validation Accuracy 0.54600\n",
      "Epoch 45, CIFAR-10 Batch 4:  Loss :      1.059 Validation Accuracy 0.54320\n",
      "Epoch 45, CIFAR-10 Batch 5:  Loss :      1.146 Validation Accuracy 0.53040\n",
      "Epoch 46, CIFAR-10 Batch 1:  Loss :      1.035 Validation Accuracy 0.54060\n",
      "Epoch 46, CIFAR-10 Batch 2:  Loss :      0.990 Validation Accuracy 0.53420\n",
      "Epoch 46, CIFAR-10 Batch 3:  Loss :      0.943 Validation Accuracy 0.55100\n",
      "Epoch 46, CIFAR-10 Batch 4:  Loss :      1.053 Validation Accuracy 0.55360\n",
      "Epoch 46, CIFAR-10 Batch 5:  Loss :      1.112 Validation Accuracy 0.52860\n",
      "Epoch 47, CIFAR-10 Batch 1:  Loss :      1.038 Validation Accuracy 0.52800\n",
      "Epoch 47, CIFAR-10 Batch 2:  Loss :      0.967 Validation Accuracy 0.54640\n",
      "Epoch 47, CIFAR-10 Batch 3:  Loss :      0.921 Validation Accuracy 0.55460\n",
      "Epoch 47, CIFAR-10 Batch 4:  Loss :      1.054 Validation Accuracy 0.54620\n",
      "Epoch 47, CIFAR-10 Batch 5:  Loss :      1.089 Validation Accuracy 0.54240\n",
      "Epoch 48, CIFAR-10 Batch 1:  Loss :      0.974 Validation Accuracy 0.55500\n",
      "Epoch 48, CIFAR-10 Batch 2:  Loss :      0.974 Validation Accuracy 0.54580\n",
      "Epoch 48, CIFAR-10 Batch 3:  Loss :      0.922 Validation Accuracy 0.54240\n",
      "Epoch 48, CIFAR-10 Batch 4:  Loss :      1.058 Validation Accuracy 0.54480\n",
      "Epoch 48, CIFAR-10 Batch 5:  Loss :      1.113 Validation Accuracy 0.52660\n",
      "Epoch 49, CIFAR-10 Batch 1:  Loss :      1.058 Validation Accuracy 0.53960\n",
      "Epoch 49, CIFAR-10 Batch 2:  Loss :      0.943 Validation Accuracy 0.55300\n",
      "Epoch 49, CIFAR-10 Batch 3:  Loss :      0.912 Validation Accuracy 0.56500\n",
      "Epoch 49, CIFAR-10 Batch 4:  Loss :      1.062 Validation Accuracy 0.55500\n",
      "Epoch 49, CIFAR-10 Batch 5:  Loss :      1.118 Validation Accuracy 0.53080\n",
      "Epoch 50, CIFAR-10 Batch 1:  Loss :      0.990 Validation Accuracy 0.54440\n",
      "Epoch 50, CIFAR-10 Batch 2:  Loss :      0.962 Validation Accuracy 0.53600\n",
      "Epoch 50, CIFAR-10 Batch 3:  Loss :      0.949 Validation Accuracy 0.54840\n",
      "Epoch 50, CIFAR-10 Batch 4:  Loss :      1.054 Validation Accuracy 0.54000\n",
      "Epoch 50, CIFAR-10 Batch 5:  Loss :      1.038 Validation Accuracy 0.55420\n"
     ]
    }
   ],
   "source": [
    "\"\"\"\n",
    "DON'T MODIFY ANYTHING IN THIS CELL\n",
    "\"\"\"\n",
    "save_model_path = './image_classification'\n",
    "\n",
    "print('Training...')\n",
    "with tf.Session() as sess:\n",
    "    # Initializing the variables\n",
    "    sess.run(tf.global_variables_initializer())\n",
    "    \n",
    "    # Training cycle\n",
    "    for epoch in range(epochs):\n",
    "        # Loop over all batches\n",
    "        n_batches = 5\n",
    "        for batch_i in range(1, n_batches + 1):\n",
    "            for batch_features, batch_labels in helper.load_preprocess_training_batch(batch_i, batch_size):\n",
    "                train_neural_network(sess, optimizer, keep_probability, batch_features, batch_labels)\n",
    "            print('Epoch {:>2}, CIFAR-10 Batch {}:  '.format(epoch + 1, batch_i), end='')\n",
    "            print_stats(sess, batch_features, batch_labels, cost, accuracy)\n",
    "            \n",
    "    # Save Model\n",
    "    saver = tf.train.Saver()\n",
    "    save_path = saver.save(sess, save_model_path)"
   ]
  },
  {
   "cell_type": "markdown",
   "metadata": {
    "deletable": true,
    "editable": true
   },
   "source": [
    "# Checkpoint\n",
    "The model has been saved to disk.\n",
    "## Test Model\n",
    "Test your model against the test dataset.  This will be your final accuracy. You should have an accuracy greater than 50%. If you don't, keep tweaking the model architecture and parameters."
   ]
  },
  {
   "cell_type": "code",
   "execution_count": 52,
   "metadata": {
    "collapsed": false,
    "deletable": true,
    "editable": true
   },
   "outputs": [
    {
     "name": "stdout",
     "output_type": "stream",
     "text": [
      "Testing Accuracy: 0.5609375\n",
      "\n"
     ]
    },
    {
     "data": {
      "image/png": "[encoded data removed]",
      "text/plain": [
       "<matplotlib.figure.Figure at 0x7f42ecf8edd8>"
      ]
     },
     "metadata": {
      "image/png": {
       "height": 319,
       "width": 355
      }
     },
     "output_type": "display_data"
    }
   ],
   "source": [
    "\"\"\"\n",
    "DON'T MODIFY ANYTHING IN THIS CELL\n",
    "\"\"\"\n",
    "%matplotlib inline\n",
    "%config InlineBackend.figure_format = 'retina'\n",
    "\n",
    "import tensorflow as tf\n",
    "import pickle\n",
    "import helper\n",
    "import random\n",
    "\n",
    "# Set batch size if not already set\n",
    "try:\n",
    "    if batch_size:\n",
    "        pass\n",
    "except NameError:\n",
    "    batch_size = 64\n",
    "\n",
    "save_model_path = './image_classification'\n",
    "n_samples = 4\n",
    "top_n_predictions = 3\n",
    "\n",
    "def test_model():\n",
    "    \"\"\"\n",
    "    Test the saved model against the test dataset\n",
    "    \"\"\"\n",
    "\n",
    "    test_features, test_labels = pickle.load(open('preprocess_test.p', mode='rb'))\n",
    "    loaded_graph = tf.Graph()\n",
    "\n",
    "    with tf.Session(graph=loaded_graph) as sess:\n",
    "        # Load model\n",
    "        loader = tf.train.import_meta_graph(save_model_path + '.meta')\n",
    "        loader.restore(sess, save_model_path)\n",
    "\n",
    "        # Get Tensors from loaded model\n",
    "        loaded_x = loaded_graph.get_tensor_by_name('x:0')\n",
    "        loaded_y = loaded_graph.get_tensor_by_name('y:0')\n",
    "        loaded_keep_prob = loaded_graph.get_tensor_by_name('keep_prob:0')\n",
    "        loaded_logits = loaded_graph.get_tensor_by_name('logits:0')\n",
    "        loaded_acc = loaded_graph.get_tensor_by_name('accuracy:0')\n",
    "        \n",
    "        # Get accuracy in batches for memory limitations\n",
    "        test_batch_acc_total = 0\n",
    "        test_batch_count = 0\n",
    "        \n",
    "        for test_feature_batch, test_label_batch in helper.batch_features_labels(test_features, test_labels, batch_size):\n",
    "            test_batch_acc_total += sess.run(\n",
    "                loaded_acc,\n",
    "                feed_dict={loaded_x: test_feature_batch, loaded_y: test_label_batch, loaded_keep_prob: 1.0})\n",
    "            test_batch_count += 1\n",
    "\n",
    "        print('Testing Accuracy: {}\\n'.format(test_batch_acc_total/test_batch_count))\n",
    "\n",
    "        # Print Random Samples\n",
    "        random_test_features, random_test_labels = tuple(zip(*random.sample(list(zip(test_features, test_labels)), n_samples)))\n",
    "        random_test_predictions = sess.run(\n",
    "            tf.nn.top_k(tf.nn.softmax(loaded_logits), top_n_predictions),\n",
    "            feed_dict={loaded_x: random_test_features, loaded_y: random_test_labels, loaded_keep_prob: 1.0})\n",
    "        helper.display_image_predictions(random_test_features, random_test_labels, random_test_predictions)\n",
    "\n",
    "\n",
    "test_model()"
   ]
  },
  {
   "cell_type": "markdown",
   "metadata": {
    "deletable": true,
    "editable": true
   },
   "source": [
    "## Why 50-80% Accuracy?\n",
    "You might be wondering why you can't get an accuracy any higher. First things first, 50% isn't bad for a simple CNN.  Pure guessing would get you 10% accuracy. However, you might notice people are getting scores [well above 80%](http://rodrigob.github.io/are_we_there_yet/build/classification_datasets_results.html#43494641522d3130).  That's because we haven't taught you all there is to know about neural networks. We still need to cover a few more techniques.\n",
    "## Submitting This Project\n",
    "When submitting this project, make sure to run all the cells before saving the notebook.  Save the notebook file as \"dlnd_image_classification.ipynb\" and save it as a HTML file under \"File\" -> \"Download as\".  Include the \"helper.py\" and \"problem_unittests.py\" files in your submission."
   ]
  },
  {
   "cell_type": "code",
   "execution_count": null,
   "metadata": {
    "collapsed": true,
    "deletable": true,
    "editable": true
   },
   "outputs": [],
   "source": []
  }
 ],
 "metadata": {
  "celltoolbar": "Edit Metadata",
  "kernelspec": {
   "display_name": "Python 3",
   "language": "python",
   "name": "python3"
  },
  "language_info": {
   "codemirror_mode": {
    "name": "ipython",
    "version": 3
   },
   "file_extension": ".py",
   "mimetype": "text/x-python",
   "name": "python",
   "nbconvert_exporter": "python",
   "pygments_lexer": "ipython3",
   "version": "3.5.2"
  },
  "widgets": {
   "state": {},
   "version": "1.1.2"
  }
 },
 "nbformat": 4,
 "nbformat_minor": 0
}
