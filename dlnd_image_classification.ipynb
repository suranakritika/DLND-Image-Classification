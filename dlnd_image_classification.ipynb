{
 "cells": [
  {
   "cell_type": "markdown",
   "metadata": {
    "collapsed": true,
    "deletable": true,
    "editable": true
   },
   "source": [
    "# Image Classification\n",
    "In this project, you'll classify images from the [CIFAR-10 dataset](https://www.cs.toronto.edu/~kriz/cifar.html).  The dataset consists of airplanes, dogs, cats, and other objects. You'll preprocess the images, then train a convolutional neural network on all the samples. The images need to be normalized and the labels need to be one-hot encoded.  You'll get to apply what you learned and build a convolutional, max pooling, dropout, and fully connected layers.  At the end, you'll get to see your neural network's predictions on the sample images.\n",
    "## Get the Data\n",
    "Run the following cell to download the [CIFAR-10 dataset for python](https://www.cs.toronto.edu/~kriz/cifar-10-python.tar.gz)."
   ]
  },
  {
   "cell_type": "code",
   "execution_count": 1,
   "metadata": {
    "collapsed": false,
    "deletable": true,
    "editable": true
   },
   "outputs": [
    {
     "name": "stdout",
     "output_type": "stream",
     "text": [
      "All files found!\n"
     ]
    }
   ],
   "source": [
    "\"\"\"\n",
    "DON'T MODIFY ANYTHING IN THIS CELL THAT IS BELOW THIS LINE\n",
    "\"\"\"\n",
    "from urllib.request import urlretrieve\n",
    "from os.path import isfile, isdir\n",
    "from tqdm import tqdm\n",
    "import problem_unittests as tests\n",
    "import tarfile\n",
    "\n",
    "cifar10_dataset_folder_path = 'cifar-10-batches-py'\n",
    "\n",
    "# Use Floyd's cifar-10 dataset if present\n",
    "floyd_cifar10_location = '/input/cifar-10/python.tar.gz'\n",
    "if isfile(floyd_cifar10_location):\n",
    "    tar_gz_path = floyd_cifar10_location\n",
    "else:\n",
    "    tar_gz_path = 'cifar-10-python.tar.gz'\n",
    "\n",
    "class DLProgress(tqdm):\n",
    "    last_block = 0\n",
    "\n",
    "    def hook(self, block_num=1, block_size=1, total_size=None):\n",
    "        self.total = total_size\n",
    "        self.update((block_num - self.last_block) * block_size)\n",
    "        self.last_block = block_num\n",
    "\n",
    "if not isfile(tar_gz_path):\n",
    "    with DLProgress(unit='B', unit_scale=True, miniters=1, desc='CIFAR-10 Dataset') as pbar:\n",
    "        urlretrieve(\n",
    "            'https://www.cs.toronto.edu/~kriz/cifar-10-python.tar.gz',\n",
    "            tar_gz_path,\n",
    "            pbar.hook)\n",
    "\n",
    "if not isdir(cifar10_dataset_folder_path):\n",
    "    with tarfile.open(tar_gz_path) as tar:\n",
    "        tar.extractall()\n",
    "        tar.close()\n",
    "\n",
    "\n",
    "tests.test_folder_path(cifar10_dataset_folder_path)"
   ]
  },
  {
   "cell_type": "markdown",
   "metadata": {
    "deletable": true,
    "editable": true
   },
   "source": [
    "## Explore the Data\n",
    "The dataset is broken into batches to prevent your machine from running out of memory.  The CIFAR-10 dataset consists of 5 batches, named `data_batch_1`, `data_batch_2`, etc.. Each batch contains the labels and images that are one of the following:\n",
    "* airplane\n",
    "* automobile\n",
    "* bird\n",
    "* cat\n",
    "* deer\n",
    "* dog\n",
    "* frog\n",
    "* horse\n",
    "* ship\n",
    "* truck\n",
    "\n",
    "Understanding a dataset is part of making predictions on the data.  Play around with the code cell below by changing the `batch_id` and `sample_id`. The `batch_id` is the id for a batch (1-5). The `sample_id` is the id for a image and label pair in the batch.\n",
    "\n",
    "Ask yourself \"What are all possible labels?\", \"What is the range of values for the image data?\", \"Are the labels in order or random?\".  Answers to questions like these will help you preprocess the data and end up with better predictions."
   ]
  },
  {
   "cell_type": "code",
   "execution_count": 2,
   "metadata": {
    "collapsed": false,
    "deletable": true,
    "editable": true
   },
   "outputs": [
    {
     "name": "stdout",
     "output_type": "stream",
     "text": [
      "\n",
      "Stats of batch 2:\n",
      "Samples: 10000\n",
      "Label Counts: {0: 984, 1: 1007, 2: 1010, 3: 995, 4: 1010, 5: 988, 6: 1008, 7: 1026, 8: 987, 9: 985}\n",
      "First 20 Labels: [1, 6, 6, 8, 8, 3, 4, 6, 0, 6, 0, 3, 6, 6, 5, 4, 8, 3, 2, 6]\n",
      "\n",
      "Example of Image 5:\n",
      "Image - Min Value: 3 Max Value: 219\n",
      "Image - Shape: (32, 32, 3)\n",
      "Label - Label Id: 3 Name: cat\n"
     ]
    },
    {
     "data": {
      "image/png": "[encoded data removed]",
      "text/plain": [
       "<matplotlib.figure.Figure at 0x7fcf30488cf8>"
      ]
     },
     "metadata": {
      "image/png": {
       "height": 250,
       "width": 253
      }
     },
     "output_type": "display_data"
    }
   ],
   "source": [
    "%matplotlib inline\n",
    "%config InlineBackend.figure_format = 'retina'\n",
    "\n",
    "import helper\n",
    "import numpy as np\n",
    "\n",
    "# Explore the dataset\n",
    "batch_id = 2\n",
    "sample_id = 5\n",
    "helper.display_stats(cifar10_dataset_folder_path, batch_id, sample_id)"
   ]
  },
  {
   "cell_type": "markdown",
   "metadata": {
    "deletable": true,
    "editable": true
   },
   "source": [
    "## Implement Preprocess Functions\n",
    "### Normalize\n",
    "In the cell below, implement the `normalize` function to take in image data, `x`, and return it as a normalized Numpy array. The values should be in the range of 0 to 1, inclusive.  The return object should be the same shape as `x`."
   ]
  },
  {
   "cell_type": "code",
   "execution_count": 3,
   "metadata": {
    "collapsed": false,
    "deletable": true,
    "editable": true
   },
   "outputs": [
    {
     "name": "stdout",
     "output_type": "stream",
     "text": [
      "Tests Passed\n"
     ]
    }
   ],
   "source": [
    "def normalize(x):\n",
    "    \"\"\"\n",
    "    Normalize a list of sample image data in the range of 0 to 1\n",
    "    : x: List of image data.  The image shape is (32, 32, 3)\n",
    "    : return: Numpy array of normalize data\n",
    "    \"\"\"\n",
    "    # TODO: Implement Function\n",
    "    \n",
    "    return np.array((x - np.min(x)) / (np.max(x) - np.min(x)))\n",
    "    #return tf.variable(tf.truncated_normal(x))\n",
    "\n",
    "\n",
    "\"\"\"\n",
    "DON'T MODIFY ANYTHING IN THIS CELL THAT IS BELOW THIS LINE\n",
    "\"\"\"\n",
    "tests.test_normalize(normalize)"
   ]
  },
  {
   "cell_type": "markdown",
   "metadata": {
    "deletable": true,
    "editable": true
   },
   "source": [
    "### One-hot encode\n",
    "Just like the previous code cell, you'll be implementing a function for preprocessing.  This time, you'll implement the `one_hot_encode` function. The input, `x`, are a list of labels.  Implement the function to return the list of labels as One-Hot encoded Numpy array.  The possible values for labels are 0 to 9. The one-hot encoding function should return the same encoding for each value between each call to `one_hot_encode`.  Make sure to save the map of encodings outside the function.\n",
    "\n",
    "Hint: Don't reinvent the wheel."
   ]
  },
  {
   "cell_type": "code",
   "execution_count": 4,
   "metadata": {
    "collapsed": false,
    "deletable": true,
    "editable": true
   },
   "outputs": [
    {
     "name": "stdout",
     "output_type": "stream",
     "text": [
      "Tests Passed\n"
     ]
    }
   ],
   "source": [
    "from sklearn import preprocessing\n",
    "def one_hot_encode(x):\n",
    "    lb=preprocessing.LabelBinarizer()\n",
    "    \"\"\"\n",
    "    One hot encode a list of sample labels. Return a one-hot encoded vector for each label.\n",
    "    : x: List of sample Labels\n",
    "    : return: Numpy array of one-hot encoded labels\n",
    "    \"\"\"\n",
    "    # TODO: Implement Function\n",
    "    lb.fit(range(10))\n",
    "    return lb.transform(x)\n",
    "\n",
    "\n",
    "\"\"\"\n",
    "DON'T MODIFY ANYTHING IN THIS CELL THAT IS BELOW THIS LINE\n",
    "\"\"\"\n",
    "tests.test_one_hot_encode(one_hot_encode)"
   ]
  },
  {
   "cell_type": "markdown",
   "metadata": {
    "deletable": true,
    "editable": true
   },
   "source": [
    "### Randomize Data\n",
    "As you saw from exploring the data above, the order of the samples are randomized.  It doesn't hurt to randomize it again, but you don't need to for this dataset."
   ]
  },
  {
   "cell_type": "markdown",
   "metadata": {
    "deletable": true,
    "editable": true
   },
   "source": [
    "## Preprocess all the data and save it\n",
    "Running the code cell below will preprocess all the CIFAR-10 data and save it to file. The code below also uses 10% of the training data for validation."
   ]
  },
  {
   "cell_type": "code",
   "execution_count": 5,
   "metadata": {
    "collapsed": false,
    "deletable": true,
    "editable": true
   },
   "outputs": [],
   "source": [
    "\"\"\"\n",
    "DON'T MODIFY ANYTHING IN THIS CELL\n",
    "\"\"\"\n",
    "# Preprocess Training, Validation, and Testing Data\n",
    "helper.preprocess_and_save_data(cifar10_dataset_folder_path, normalize, one_hot_encode)"
   ]
  },
  {
   "cell_type": "markdown",
   "metadata": {
    "deletable": true,
    "editable": true
   },
   "source": [
    "# Check Point\n",
    "This is your first checkpoint.  If you ever decide to come back to this notebook or have to restart the notebook, you can start from here.  The preprocessed data has been saved to disk."
   ]
  },
  {
   "cell_type": "code",
   "execution_count": 6,
   "metadata": {
    "collapsed": true,
    "deletable": true,
    "editable": true
   },
   "outputs": [],
   "source": [
    "\"\"\"\n",
    "DON'T MODIFY ANYTHING IN THIS CELL\n",
    "\"\"\"\n",
    "import pickle\n",
    "import problem_unittests as tests\n",
    "import helper\n",
    "\n",
    "# Load the Preprocessed Validation data\n",
    "valid_features, valid_labels = pickle.load(open('preprocess_validation.p', mode='rb'))"
   ]
  },
  {
   "cell_type": "markdown",
   "metadata": {
    "deletable": true,
    "editable": true
   },
   "source": [
    "## Build the network\n",
    "For the neural network, you'll build each layer into a function.  Most of the code you've seen has been outside of functions. To test your code more thoroughly, we require that you put each layer in a function.  This allows us to give you better feedback and test for simple mistakes using our unittests before you submit your project.\n",
    "\n",
    ">**Note:** If you're finding it hard to dedicate enough time for this course each week, we've provided a small shortcut to this part of the project. In the next couple of problems, you'll have the option to use classes from the [TensorFlow Layers](https://www.tensorflow.org/api_docs/python/tf/layers) or [TensorFlow Layers (contrib)](https://www.tensorflow.org/api_guides/python/contrib.layers) packages to build each layer, except the layers you build in the \"Convolutional and Max Pooling Layer\" section.  TF Layers is similar to Keras's and TFLearn's abstraction to layers, so it's easy to pickup.\n",
    "\n",
    ">However, if you would like to get the most out of this course, try to solve all the problems _without_ using anything from the TF Layers packages. You **can** still use classes from other packages that happen to have the same name as ones you find in TF Layers! For example, instead of using the TF Layers version of the `conv2d` class, [tf.layers.conv2d](https://www.tensorflow.org/api_docs/python/tf/layers/conv2d), you would want to use the TF Neural Network version of `conv2d`, [tf.nn.conv2d](https://www.tensorflow.org/api_docs/python/tf/nn/conv2d). \n",
    "\n",
    "Let's begin!\n",
    "\n",
    "### Input\n",
    "The neural network needs to read the image data, one-hot encoded labels, and dropout keep probability. Implement the following functions\n",
    "* Implement `neural_net_image_input`\n",
    " * Return a [TF Placeholder](https://www.tensorflow.org/api_docs/python/tf/placeholder)\n",
    " * Set the shape using `image_shape` with batch size set to `None`.\n",
    " * Name the TensorFlow placeholder \"x\" using the TensorFlow `name` parameter in the [TF Placeholder](https://www.tensorflow.org/api_docs/python/tf/placeholder).\n",
    "* Implement `neural_net_label_input`\n",
    " * Return a [TF Placeholder](https://www.tensorflow.org/api_docs/python/tf/placeholder)\n",
    " * Set the shape using `n_classes` with batch size set to `None`.\n",
    " * Name the TensorFlow placeholder \"y\" using the TensorFlow `name` parameter in the [TF Placeholder](https://www.tensorflow.org/api_docs/python/tf/placeholder).\n",
    "* Implement `neural_net_keep_prob_input`\n",
    " * Return a [TF Placeholder](https://www.tensorflow.org/api_docs/python/tf/placeholder) for dropout keep probability.\n",
    " * Name the TensorFlow placeholder \"keep_prob\" using the TensorFlow `name` parameter in the [TF Placeholder](https://www.tensorflow.org/api_docs/python/tf/placeholder).\n",
    "\n",
    "These names will be used at the end of the project to load your saved model.\n",
    "\n",
    "Note: `None` for shapes in TensorFlow allow for a dynamic size."
   ]
  },
  {
   "cell_type": "code",
   "execution_count": 7,
   "metadata": {
    "collapsed": false,
    "deletable": true,
    "editable": true
   },
   "outputs": [
    {
     "name": "stdout",
     "output_type": "stream",
     "text": [
      "Image Input Tests Passed.\n",
      "Label Input Tests Passed.\n",
      "Keep Prob Tests Passed.\n"
     ]
    }
   ],
   "source": [
    "import tensorflow as tf\n",
    "\n",
    "def neural_net_image_input(image_shape):\n",
    "    \"\"\"\n",
    "    Return a Tensor for a batch of image input\n",
    "    : image_shape: Shape of the images\n",
    "    : return: Tensor for image input.\n",
    "    \"\"\"\n",
    "    # TODO: Implement Function\n",
    "   \n",
    "    return tf.placeholder(tf.float32, shape=(None,*image_shape), name=('x'))\n",
    "\n",
    "\n",
    "def neural_net_label_input(n_classes):\n",
    "    \"\"\"\n",
    "    Return a Tensor for a batch of label input\n",
    "    : n_classes: Number of classes\n",
    "    : return: Tensor for label input.\n",
    "    \"\"\"\n",
    "    # TODO: Implement Function\n",
    "    return tf.placeholder(tf.int32, shape=(None, n_classes), name=('y'))\n",
    "\n",
    "\n",
    "def neural_net_keep_prob_input():\n",
    "    \"\"\"\n",
    "    Return a Tensor for keep probability\n",
    "    : return: Tensor for keep probability.\n",
    "    \"\"\"\n",
    "    # TODO: Implement Function\n",
    "    return tf.placeholder(tf.float32, name=('keep_prob'))\n",
    "\n",
    "\n",
    "\"\"\"\n",
    "DON'T MODIFY ANYTHING IN THIS CELL THAT IS BELOW THIS LINE\n",
    "\"\"\"\n",
    "tf.reset_default_graph()\n",
    "tests.test_nn_image_inputs(neural_net_image_input)\n",
    "tests.test_nn_label_inputs(neural_net_label_input)\n",
    "tests.test_nn_keep_prob_inputs(neural_net_keep_prob_input)"
   ]
  },
  {
   "cell_type": "markdown",
   "metadata": {
    "deletable": true,
    "editable": true
   },
   "source": [
    "### Convolution and Max Pooling Layer\n",
    "Convolution layers have a lot of success with images. For this code cell, you should implement the function `conv2d_maxpool` to apply convolution then max pooling:\n",
    "* Create the weight and bias using `conv_ksize`, `conv_num_outputs` and the shape of `x_tensor`.\n",
    "* Apply a convolution to `x_tensor` using weight and `conv_strides`.\n",
    " * We recommend you use same padding, but you're welcome to use any padding.\n",
    "* Add bias\n",
    "* Add a nonlinear activation to the convolution.\n",
    "* Apply Max Pooling using `pool_ksize` and `pool_strides`.\n",
    " * We recommend you use same padding, but you're welcome to use any padding.\n",
    "\n",
    "**Note:** You **can't** use [TensorFlow Layers](https://www.tensorflow.org/api_docs/python/tf/layers) or [TensorFlow Layers (contrib)](https://www.tensorflow.org/api_guides/python/contrib.layers) for **this** layer, but you can still use TensorFlow's [Neural Network](https://www.tensorflow.org/api_docs/python/tf/nn) package. You may still use the shortcut option for all the **other** layers."
   ]
  },
  {
   "cell_type": "code",
   "execution_count": 8,
   "metadata": {
    "collapsed": false,
    "deletable": true,
    "editable": true
   },
   "outputs": [
    {
     "name": "stdout",
     "output_type": "stream",
     "text": [
      "Tests Passed\n"
     ]
    }
   ],
   "source": [
    "def conv2d_maxpool(x_tensor, conv_num_outputs, conv_ksize, conv_strides, pool_ksize, pool_strides):\n",
    "    \"\"\"\n",
    "    Apply convolution then max pooling to x_tensor\n",
    "    :param x_tensor: TensorFlow Tensor\n",
    "    :param conv_num_outputs: Number of outputs for the convolutional layer\n",
    "    :param conv_ksize: kernal size 2-D Tuple for the convolutional layer\n",
    "    :param conv_strides: Stride 2-D Tuple for convolution\n",
    "    :param pool_ksize: kernal size 2-D Tuple for pool\n",
    "    :param pool_strides: Stride 2-D Tuple for pool\n",
    "    : return: A tensor that represents convolution and max pooling of x_tensor\n",
    "    \"\"\"\n",
    "    # TODO: Implement Function\n",
    "    h=conv_ksize[0]\n",
    "    w=conv_ksize[1]\n",
    "    color_channels = x_tensor.get_shape().as_list()[3]\n",
    "    \n",
    "    # Weights & bias\n",
    "    weights = tf.Variable(tf.truncated_normal([h, w, color_channels, conv_num_outputs]))\n",
    "    bias = tf.Variable(tf.zeros(conv_num_outputs))\n",
    "    \n",
    "    #Applying convolution\n",
    "    conv_s=[1, *conv_strides, 1]\n",
    "    conv_layer=tf.nn.conv2d(x_tensor,weights,conv_s,padding='SAME')\n",
    "    \n",
    "    #Add bias\n",
    "    conv_layer=tf.nn.bias_add(conv_layer,bias)\n",
    "    \n",
    "    #Activation function\n",
    "    conv_layer=tf.nn.relu(conv_layer)\n",
    "    \n",
    "    #Applying max pool\n",
    "    pool_strides=[1,*pool_strides, 1]\n",
    "    pool_ksize=[1, *pool_ksize, 1]\n",
    "    conv_layer=tf.nn.max_pool(conv_layer, ksize=pool_ksize, strides=pool_strides, padding='SAME')\n",
    "    \n",
    "    return conv_layer \n",
    "\n",
    "\n",
    "\"\"\"\n",
    "DON'T MODIFY ANYTHING IN THIS CELL THAT IS BELOW THIS LINE\n",
    "\"\"\"\n",
    "tests.test_con_pool(conv2d_maxpool)"
   ]
  },
  {
   "cell_type": "markdown",
   "metadata": {
    "deletable": true,
    "editable": true
   },
   "source": [
    "### Flatten Layer\n",
    "Implement the `flatten` function to change the dimension of `x_tensor` from a 4-D tensor to a 2-D tensor.  The output should be the shape (*Batch Size*, *Flattened Image Size*). Shortcut option: you can use classes from the [TensorFlow Layers](https://www.tensorflow.org/api_docs/python/tf/layers) or [TensorFlow Layers (contrib)](https://www.tensorflow.org/api_guides/python/contrib.layers) packages for this layer. For more of a challenge, only use other TensorFlow packages."
   ]
  },
  {
   "cell_type": "code",
   "execution_count": 9,
   "metadata": {
    "collapsed": false,
    "deletable": true,
    "editable": true
   },
   "outputs": [
    {
     "name": "stdout",
     "output_type": "stream",
     "text": [
      "Tests Passed\n"
     ]
    }
   ],
   "source": [
    "def flatten(x_tensor):\n",
    "    \"\"\"\n",
    "    Flatten x_tensor to (Batch Size, Flattened Image Size)\n",
    "    : x_tensor: A tensor of size (Batch Size, ...), where ... are the image dimensions.\n",
    "    : return: A tensor of size (Batch Size, Flattened Image Size).\n",
    "    \"\"\"\n",
    "    # TODO: Implement Function\n",
    "    flattened_layer=tf.contrib.layers.flatten(x_tensor)\n",
    "    return flattened_layer\n",
    "\n",
    "\n",
    "\"\"\"\n",
    "DON'T MODIFY ANYTHING IN THIS CELL THAT IS BELOW THIS LINE\n",
    "\"\"\"\n",
    "tests.test_flatten(flatten)"
   ]
  },
  {
   "cell_type": "markdown",
   "metadata": {
    "deletable": true,
    "editable": true
   },
   "source": [
    "### Fully-Connected Layer\n",
    "Implement the `fully_conn` function to apply a fully connected layer to `x_tensor` with the shape (*Batch Size*, *num_outputs*). Shortcut option: you can use classes from the [TensorFlow Layers](https://www.tensorflow.org/api_docs/python/tf/layers) or [TensorFlow Layers (contrib)](https://www.tensorflow.org/api_guides/python/contrib.layers) packages for this layer. For more of a challenge, only use other TensorFlow packages."
   ]
  },
  {
   "cell_type": "code",
   "execution_count": 10,
   "metadata": {
    "collapsed": false,
    "deletable": true,
    "editable": true
   },
   "outputs": [
    {
     "name": "stdout",
     "output_type": "stream",
     "text": [
      "Tests Passed\n"
     ]
    }
   ],
   "source": [
    "def fully_conn(x_tensor, num_outputs):\n",
    "    \"\"\"\n",
    "    Apply a fully connected layer to x_tensor using weight and bias\n",
    "    : x_tensor: A 2-D tensor where the first dimension is batch size.\n",
    "    : num_outputs: The number of output that the new tensor should be.\n",
    "    : return: A 2-D tensor where the second dimension is num_outputs.\n",
    "    \"\"\"\n",
    "    # TODO: Implement Function\n",
    "    \n",
    "    fully_connected=tf.contrib.layers.fully_connected(x_tensor, num_outputs)\n",
    "    return  tf.nn.relu(fully_connected)\n",
    "\n",
    "\n",
    "\"\"\"\n",
    "DON'T MODIFY ANYTHING IN THIS CELL THAT IS BELOW THIS LINE\n",
    "\"\"\"\n",
    "tests.test_fully_conn(fully_conn)"
   ]
  },
  {
   "cell_type": "markdown",
   "metadata": {
    "deletable": true,
    "editable": true
   },
   "source": [
    "### Output Layer\n",
    "Implement the `output` function to apply a fully connected layer to `x_tensor` with the shape (*Batch Size*, *num_outputs*). Shortcut option: you can use classes from the [TensorFlow Layers](https://www.tensorflow.org/api_docs/python/tf/layers) or [TensorFlow Layers (contrib)](https://www.tensorflow.org/api_guides/python/contrib.layers) packages for this layer. For more of a challenge, only use other TensorFlow packages.\n",
    "\n",
    "**Note:** Activation, softmax, or cross entropy should **not** be applied to this."
   ]
  },
  {
   "cell_type": "code",
   "execution_count": 11,
   "metadata": {
    "collapsed": false,
    "deletable": true,
    "editable": true
   },
   "outputs": [
    {
     "name": "stdout",
     "output_type": "stream",
     "text": [
      "Tests Passed\n"
     ]
    }
   ],
   "source": [
    "def output(x_tensor, num_outputs):\n",
    "    \"\"\"\n",
    "    Apply a output layer to x_tensor using weight and bias\n",
    "    : x_tensor: A 2-D tensor where the first dimension is batch size.\n",
    "    : num_outputs: The number of output that the new tensor should be.\n",
    "    : return: A 2-D tensor where the second dimension is num_outputs.\n",
    "    \"\"\"\n",
    "    # TODO: Implement Function\n",
    "    shape = [int(x_tensor.get_shape()[1]), num_outputs]\n",
    "    w = tf.Variable(tf.truncated_normal(shape = shape, mean = 0, stddev = 0.1))\n",
    "    b = tf.Variable(tf.zeros(num_outputs))\n",
    "    \n",
    "    return tf.add(tf.matmul(x_tensor, w), b)\n",
    "\n",
    "   \n",
    "\n",
    "\n",
    "\"\"\"\n",
    "DON'T MODIFY ANYTHING IN THIS CELL THAT IS BELOW THIS LINE\n",
    "\"\"\"\n",
    "tests.test_output(output)"
   ]
  },
  {
   "cell_type": "markdown",
   "metadata": {
    "deletable": true,
    "editable": true
   },
   "source": [
    "### Create Convolutional Model\n",
    "Implement the function `conv_net` to create a convolutional neural network model. The function takes in a batch of images, `x`, and outputs logits.  Use the layers you created above to create this model:\n",
    "\n",
    "* Apply 1, 2, or 3 Convolution and Max Pool layers\n",
    "* Apply a Flatten Layer\n",
    "* Apply 1, 2, or 3 Fully Connected Layers\n",
    "* Apply an Output Layer\n",
    "* Return the output\n",
    "* Apply [TensorFlow's Dropout](https://www.tensorflow.org/api_docs/python/tf/nn/dropout) to one or more layers in the model using `keep_prob`. "
   ]
  },
  {
   "cell_type": "code",
   "execution_count": 15,
   "metadata": {
    "collapsed": false,
    "deletable": true,
    "editable": true
   },
   "outputs": [
    {
     "name": "stdout",
     "output_type": "stream",
     "text": [
      "Neural Network Built!\n"
     ]
    }
   ],
   "source": [
    "def conv_net(x, keep_prob):\n",
    "    \"\"\"\n",
    "    Create a convolutional neural network model\n",
    "    : x: Placeholder tensor that holds image data.\n",
    "    : keep_prob: Placeholder tensor that hold dropout keep probability.\n",
    "    : return: Tensor that represents logits\n",
    "    \"\"\"\n",
    "    # TODO: Apply 1, 2, or 3 Convolution and Max Pool layers\n",
    "    \n",
    "    #    Play around with different number of outputs, kernel size and stride\n",
    "    # Function Definition from Above:\n",
    "    #    conv2d_maxpool(x_tensor, conv_num_outputs, conv_ksize, conv_strides, pool_ksize, pool_strides)\n",
    "    conv_l=conv2d_maxpool(x, 14, (4, 4), (1, 1), (2, 2), (2, 2))\n",
    "    conv_l=tf.nn.dropout(conv_l,keep_prob)\n",
    "    \n",
    "    \n",
    "\n",
    "    # TODO: Apply a Flatten Layer\n",
    "    # Function Definition from Above:\n",
    "    #   flatten(x_tensor)\n",
    "    \n",
    "    fl=flatten(conv_l)\n",
    "    \n",
    "\n",
    "    # TODO: Apply 1, 2, or 3 Fully Connected Layers\n",
    "    #    Play around with different number of outputs\n",
    "    # Function Definition from Above:\n",
    "    fcl = fully_conn(fl, 256)\n",
    "    fcl = tf.nn.dropout(fl, keep_prob)\n",
    "    \n",
    "    # Fully Connected Layer 2\n",
    "    fcl = fully_conn(fl, 170)\n",
    "    fcl = tf.nn.dropout(fl, keep_prob)\n",
    "    \n",
    "    \n",
    "    \n",
    "    # TODO: Apply an Output Layer\n",
    "    #    Set this to the number of classes\n",
    "    # Function Definition from Above:\n",
    "    ol=output(fcl, 10)\n",
    "    \n",
    "    \n",
    "    # TODO: return output\n",
    "    return ol\n",
    "\n",
    "\n",
    "\"\"\"\n",
    "DON'T MODIFY ANYTHING IN THIS CELL THAT IS BELOW THIS LINE\n",
    "\"\"\"\n",
    "\n",
    "##############################\n",
    "## Build the Neural Network ##\n",
    "##############################\n",
    "\n",
    "# Remove previous weights, bias, inputs, etc..\n",
    "tf.reset_default_graph()\n",
    "\n",
    "# Inputs\n",
    "x = neural_net_image_input((32, 32, 3))\n",
    "y = neural_net_label_input(10)\n",
    "keep_prob = neural_net_keep_prob_input()\n",
    "\n",
    "# Model\n",
    "logits = conv_net(x, keep_prob)\n",
    "\n",
    "# Name logits Tensor, so that is can be loaded from disk after training\n",
    "logits = tf.identity(logits, name='logits')\n",
    "\n",
    "# Loss and Optimizer\n",
    "cost = tf.reduce_mean(tf.nn.softmax_cross_entropy_with_logits(logits=logits, labels=y))\n",
    "optimizer = tf.train.AdamOptimizer().minimize(cost)\n",
    "\n",
    "# Accuracy\n",
    "correct_pred = tf.equal(tf.argmax(logits, 1), tf.argmax(y, 1))\n",
    "accuracy = tf.reduce_mean(tf.cast(correct_pred, tf.float32), name='accuracy')\n",
    "\n",
    "tests.test_conv_net(conv_net)"
   ]
  },
  {
   "cell_type": "markdown",
   "metadata": {
    "deletable": true,
    "editable": true
   },
   "source": [
    "## Train the Neural Network\n",
    "### Single Optimization\n",
    "Implement the function `train_neural_network` to do a single optimization.  The optimization should use `optimizer` to optimize in `session` with a `feed_dict` of the following:\n",
    "* `x` for image input\n",
    "* `y` for labels\n",
    "* `keep_prob` for keep probability for dropout\n",
    "\n",
    "This function will be called for each batch, so `tf.global_variables_initializer()` has already been called.\n",
    "\n",
    "Note: Nothing needs to be returned. This function is only optimizing the neural network."
   ]
  },
  {
   "cell_type": "code",
   "execution_count": 23,
   "metadata": {
    "collapsed": false,
    "deletable": true,
    "editable": true
   },
   "outputs": [
    {
     "name": "stdout",
     "output_type": "stream",
     "text": [
      "Tests Passed\n"
     ]
    }
   ],
   "source": [
    "def train_neural_network(session, optimizer, keep_probability, feature_batch, label_batch):\n",
    "    \"\"\"\n",
    "    Optimize the session on a batch of images and labels\n",
    "    : session: Current TensorFlow session\n",
    "    : optimizer: TensorFlow optimizer function\n",
    "    : keep_probability: keep probability\n",
    "    : feature_batch: Batch of Numpy image data\n",
    "    : label_batch: Batch of Numpy label data\n",
    "    \"\"\"\n",
    "    # TODO: Implement Function\n",
    "    session.run(optimizer, feed_dict={x : feature_batch, y : label_batch, keep_prob : keep_probability})\n",
    "\n",
    "\n",
    "\"\"\"\n",
    "DON'T MODIFY ANYTHING IN THIS CELL THAT IS BELOW THIS LINE\n",
    "\"\"\"\n",
    "tests.test_train_nn(train_neural_network)"
   ]
  },
  {
   "cell_type": "markdown",
   "metadata": {
    "deletable": true,
    "editable": true
   },
   "source": [
    "### Show Stats\n",
    "Implement the function `print_stats` to print loss and validation accuracy.  Use the global variables `valid_features` and `valid_labels` to calculate validation accuracy.  Use a keep probability of `1.0` to calculate the loss and validation accuracy."
   ]
  },
  {
   "cell_type": "code",
   "execution_count": 28,
   "metadata": {
    "collapsed": false,
    "deletable": true,
    "editable": true
   },
   "outputs": [],
   "source": [
    "def print_stats(session, feature_batch, label_batch, cost, accuracy):\n",
    "    \"\"\"\n",
    "    Print information about loss and validation accuracy\n",
    "    : session: Current TensorFlow session\n",
    "    : feature_batch: Batch of Numpy image data\n",
    "    : label_batch: Batch of Numpy label data\n",
    "    : cost: TensorFlow cost function\n",
    "    : accuracy: TensorFlow accuracy function\n",
    "    \"\"\"\n",
    "    # TODO: Implement Function\n",
    "    # Calculate loss\n",
    "    loss = session.run(cost, feed_dict={x : feature_batch, y : label_batch, keep_prob : 1.0})\n",
    "    # Calculate Validation Accuracy\n",
    "    val_acc = session.run(accuracy, feed_dict={x : valid_features, y : valid_labels, keep_prob : 1.0})\n",
    "    \n",
    "    # Print Calculated Values\n",
    "    print('Loss : {:>10.3f} Validation Accuracy {:.5f}'.format(loss, val_acc))"
   ]
  },
  {
   "cell_type": "markdown",
   "metadata": {
    "deletable": true,
    "editable": true
   },
   "source": [
    "### Hyperparameters\n",
    "Tune the following parameters:\n",
    "* Set `epochs` to the number of iterations until the network stops learning or start overfitting\n",
    "* Set `batch_size` to the highest number that your machine has memory for.  Most people set them to common sizes of memory:\n",
    " * 64\n",
    " * 128\n",
    " * 256\n",
    " * ...\n",
    "* Set `keep_probability` to the probability of keeping a node using dropout"
   ]
  },
  {
   "cell_type": "code",
   "execution_count": 66,
   "metadata": {
    "collapsed": true,
    "deletable": true,
    "editable": true
   },
   "outputs": [],
   "source": [
    "# TODO: Tune Parameters\n",
    "epochs = 50\n",
    "batch_size = 300\n",
    "keep_probability = 0.6"
   ]
  },
  {
   "cell_type": "markdown",
   "metadata": {
    "deletable": true,
    "editable": true
   },
   "source": [
    "### Train on a Single CIFAR-10 Batch\n",
    "Instead of training the neural network on all the CIFAR-10 batches of data, let's use a single batch. This should save time while you iterate on the model to get a better accuracy.  Once the final validation accuracy is 50% or greater, run the model on all the data in the next section."
   ]
  },
  {
   "cell_type": "code",
   "execution_count": 67,
   "metadata": {
    "collapsed": false,
    "deletable": true,
    "editable": true
   },
   "outputs": [
    {
     "name": "stdout",
     "output_type": "stream",
     "text": [
      "Checking the Training on a Single Batch...\n",
      "Epoch  1, CIFAR-10 Batch 1:  Loss :      5.643 Validation Accuracy 0.16120\n",
      "Epoch  2, CIFAR-10 Batch 1:  Loss :      4.028 Validation Accuracy 0.23380\n",
      "Epoch  3, CIFAR-10 Batch 1:  Loss :      3.289 Validation Accuracy 0.28540\n",
      "Epoch  4, CIFAR-10 Batch 1:  Loss :      2.835 Validation Accuracy 0.31780\n",
      "Epoch  5, CIFAR-10 Batch 1:  Loss :      2.461 Validation Accuracy 0.33260\n",
      "Epoch  6, CIFAR-10 Batch 1:  Loss :      2.154 Validation Accuracy 0.33580\n",
      "Epoch  7, CIFAR-10 Batch 1:  Loss :      1.973 Validation Accuracy 0.34020\n",
      "Epoch  8, CIFAR-10 Batch 1:  Loss :      1.880 Validation Accuracy 0.34460\n",
      "Epoch  9, CIFAR-10 Batch 1:  Loss :      1.805 Validation Accuracy 0.34940\n",
      "Epoch 10, CIFAR-10 Batch 1:  Loss :      1.749 Validation Accuracy 0.35620\n",
      "Epoch 11, CIFAR-10 Batch 1:  Loss :      1.705 Validation Accuracy 0.36220\n",
      "Epoch 12, CIFAR-10 Batch 1:  Loss :      1.657 Validation Accuracy 0.36960\n",
      "Epoch 13, CIFAR-10 Batch 1:  Loss :      1.613 Validation Accuracy 0.37560\n",
      "Epoch 14, CIFAR-10 Batch 1:  Loss :      1.581 Validation Accuracy 0.38280\n",
      "Epoch 15, CIFAR-10 Batch 1:  Loss :      1.557 Validation Accuracy 0.39020\n",
      "Epoch 16, CIFAR-10 Batch 1:  Loss :      1.537 Validation Accuracy 0.40040\n",
      "Epoch 17, CIFAR-10 Batch 1:  Loss :      1.519 Validation Accuracy 0.40240\n",
      "Epoch 18, CIFAR-10 Batch 1:  Loss :      1.491 Validation Accuracy 0.40900\n",
      "Epoch 19, CIFAR-10 Batch 1:  Loss :      1.474 Validation Accuracy 0.41520\n",
      "Epoch 20, CIFAR-10 Batch 1:  Loss :      1.456 Validation Accuracy 0.41520\n",
      "Epoch 21, CIFAR-10 Batch 1:  Loss :      1.429 Validation Accuracy 0.41980\n",
      "Epoch 22, CIFAR-10 Batch 1:  Loss :      1.417 Validation Accuracy 0.42580\n",
      "Epoch 23, CIFAR-10 Batch 1:  Loss :      1.397 Validation Accuracy 0.42780\n",
      "Epoch 24, CIFAR-10 Batch 1:  Loss :      1.375 Validation Accuracy 0.43060\n",
      "Epoch 25, CIFAR-10 Batch 1:  Loss :      1.365 Validation Accuracy 0.43720\n",
      "Epoch 26, CIFAR-10 Batch 1:  Loss :      1.356 Validation Accuracy 0.43700\n",
      "Epoch 27, CIFAR-10 Batch 1:  Loss :      1.337 Validation Accuracy 0.44300\n",
      "Epoch 28, CIFAR-10 Batch 1:  Loss :      1.315 Validation Accuracy 0.44600\n",
      "Epoch 29, CIFAR-10 Batch 1:  Loss :      1.302 Validation Accuracy 0.44600\n",
      "Epoch 30, CIFAR-10 Batch 1:  Loss :      1.286 Validation Accuracy 0.45160\n",
      "Epoch 31, CIFAR-10 Batch 1:  Loss :      1.274 Validation Accuracy 0.45220\n",
      "Epoch 32, CIFAR-10 Batch 1:  Loss :      1.259 Validation Accuracy 0.45560\n",
      "Epoch 33, CIFAR-10 Batch 1:  Loss :      1.253 Validation Accuracy 0.46260\n",
      "Epoch 34, CIFAR-10 Batch 1:  Loss :      1.238 Validation Accuracy 0.46140\n",
      "Epoch 35, CIFAR-10 Batch 1:  Loss :      1.222 Validation Accuracy 0.46460\n",
      "Epoch 36, CIFAR-10 Batch 1:  Loss :      1.216 Validation Accuracy 0.46620\n",
      "Epoch 37, CIFAR-10 Batch 1:  Loss :      1.204 Validation Accuracy 0.46440\n",
      "Epoch 38, CIFAR-10 Batch 1:  Loss :      1.194 Validation Accuracy 0.46780\n",
      "Epoch 39, CIFAR-10 Batch 1:  Loss :      1.189 Validation Accuracy 0.46920\n",
      "Epoch 40, CIFAR-10 Batch 1:  Loss :      1.179 Validation Accuracy 0.47180\n",
      "Epoch 41, CIFAR-10 Batch 1:  Loss :      1.172 Validation Accuracy 0.47100\n",
      "Epoch 42, CIFAR-10 Batch 1:  Loss :      1.151 Validation Accuracy 0.47780\n",
      "Epoch 43, CIFAR-10 Batch 1:  Loss :      1.148 Validation Accuracy 0.47740\n",
      "Epoch 44, CIFAR-10 Batch 1:  Loss :      1.139 Validation Accuracy 0.47700\n",
      "Epoch 45, CIFAR-10 Batch 1:  Loss :      1.137 Validation Accuracy 0.47880\n",
      "Epoch 46, CIFAR-10 Batch 1:  Loss :      1.128 Validation Accuracy 0.48180\n",
      "Epoch 47, CIFAR-10 Batch 1:  Loss :      1.116 Validation Accuracy 0.47880\n",
      "Epoch 48, CIFAR-10 Batch 1:  Loss :      1.107 Validation Accuracy 0.48000\n",
      "Epoch 49, CIFAR-10 Batch 1:  Loss :      1.099 Validation Accuracy 0.48460\n",
      "Epoch 50, CIFAR-10 Batch 1:  Loss :      1.098 Validation Accuracy 0.48480\n"
     ]
    }
   ],
   "source": [
    "\"\"\"\n",
    "DON'T MODIFY ANYTHING IN THIS CELL\n",
    "\"\"\"\n",
    "print('Checking the Training on a Single Batch...')\n",
    "with tf.Session() as sess:\n",
    "    # Initializing the variables\n",
    "    sess.run(tf.global_variables_initializer())\n",
    "    \n",
    "    # Training cycle\n",
    "    for epoch in range(epochs):\n",
    "        batch_i = 1\n",
    "        for batch_features, batch_labels in helper.load_preprocess_training_batch(batch_i, batch_size):\n",
    "            train_neural_network(sess, optimizer, keep_probability, batch_features, batch_labels)\n",
    "        print('Epoch {:>2}, CIFAR-10 Batch {}:  '.format(epoch + 1, batch_i), end='')\n",
    "        print_stats(sess, batch_features, batch_labels, cost, accuracy)"
   ]
  },
  {
   "cell_type": "markdown",
   "metadata": {
    "deletable": true,
    "editable": true
   },
   "source": [
    "### Fully Train the Model\n",
    "Now that you got a good accuracy with a single CIFAR-10 batch, try it with all five batches."
   ]
  },
  {
   "cell_type": "code",
   "execution_count": 68,
   "metadata": {
    "collapsed": false,
    "deletable": true,
    "editable": true
   },
   "outputs": [
    {
     "name": "stdout",
     "output_type": "stream",
     "text": [
      "Training...\n",
      "Epoch  1, CIFAR-10 Batch 1:  Loss :      6.068 Validation Accuracy 0.19800\n",
      "Epoch  1, CIFAR-10 Batch 2:  Loss :      4.836 Validation Accuracy 0.26060\n",
      "Epoch  1, CIFAR-10 Batch 3:  Loss :      4.108 Validation Accuracy 0.30520\n",
      "Epoch  1, CIFAR-10 Batch 4:  Loss :      3.474 Validation Accuracy 0.32920\n",
      "Epoch  1, CIFAR-10 Batch 5:  Loss :      3.216 Validation Accuracy 0.33260\n",
      "Epoch  2, CIFAR-10 Batch 1:  Loss :      3.198 Validation Accuracy 0.34880\n",
      "Epoch  2, CIFAR-10 Batch 2:  Loss :      2.228 Validation Accuracy 0.35780\n",
      "Epoch  2, CIFAR-10 Batch 3:  Loss :      2.127 Validation Accuracy 0.34780\n",
      "Epoch  2, CIFAR-10 Batch 4:  Loss :      1.930 Validation Accuracy 0.34640\n",
      "Epoch  2, CIFAR-10 Batch 5:  Loss :      1.951 Validation Accuracy 0.34460\n",
      "Epoch  3, CIFAR-10 Batch 1:  Loss :      2.048 Validation Accuracy 0.35600\n",
      "Epoch  3, CIFAR-10 Batch 2:  Loss :      1.743 Validation Accuracy 0.36040\n",
      "Epoch  3, CIFAR-10 Batch 3:  Loss :      1.764 Validation Accuracy 0.36480\n",
      "Epoch  3, CIFAR-10 Batch 4:  Loss :      1.695 Validation Accuracy 0.36860\n",
      "Epoch  3, CIFAR-10 Batch 5:  Loss :      1.775 Validation Accuracy 0.37320\n",
      "Epoch  4, CIFAR-10 Batch 1:  Loss :      1.883 Validation Accuracy 0.38400\n",
      "Epoch  4, CIFAR-10 Batch 2:  Loss :      1.650 Validation Accuracy 0.38740\n",
      "Epoch  4, CIFAR-10 Batch 3:  Loss :      1.650 Validation Accuracy 0.39720\n",
      "Epoch  4, CIFAR-10 Batch 4:  Loss :      1.598 Validation Accuracy 0.40000\n",
      "Epoch  4, CIFAR-10 Batch 5:  Loss :      1.691 Validation Accuracy 0.40240\n",
      "Epoch  5, CIFAR-10 Batch 1:  Loss :      1.800 Validation Accuracy 0.40380\n",
      "Epoch  5, CIFAR-10 Batch 2:  Loss :      1.598 Validation Accuracy 0.40960\n",
      "Epoch  5, CIFAR-10 Batch 3:  Loss :      1.572 Validation Accuracy 0.41920\n",
      "Epoch  5, CIFAR-10 Batch 4:  Loss :      1.534 Validation Accuracy 0.42040\n",
      "Epoch  5, CIFAR-10 Batch 5:  Loss :      1.615 Validation Accuracy 0.42320\n",
      "Epoch  6, CIFAR-10 Batch 1:  Loss :      1.728 Validation Accuracy 0.42940\n",
      "Epoch  6, CIFAR-10 Batch 2:  Loss :      1.544 Validation Accuracy 0.42800\n",
      "Epoch  6, CIFAR-10 Batch 3:  Loss :      1.507 Validation Accuracy 0.43860\n",
      "Epoch  6, CIFAR-10 Batch 4:  Loss :      1.480 Validation Accuracy 0.43960\n",
      "Epoch  6, CIFAR-10 Batch 5:  Loss :      1.555 Validation Accuracy 0.43720\n",
      "Epoch  7, CIFAR-10 Batch 1:  Loss :      1.662 Validation Accuracy 0.44540\n",
      "Epoch  7, CIFAR-10 Batch 2:  Loss :      1.496 Validation Accuracy 0.44580\n",
      "Epoch  7, CIFAR-10 Batch 3:  Loss :      1.448 Validation Accuracy 0.45500\n",
      "Epoch  7, CIFAR-10 Batch 4:  Loss :      1.427 Validation Accuracy 0.45760\n",
      "Epoch  7, CIFAR-10 Batch 5:  Loss :      1.500 Validation Accuracy 0.45820\n",
      "Epoch  8, CIFAR-10 Batch 1:  Loss :      1.605 Validation Accuracy 0.46800\n",
      "Epoch  8, CIFAR-10 Batch 2:  Loss :      1.450 Validation Accuracy 0.46800\n",
      "Epoch  8, CIFAR-10 Batch 3:  Loss :      1.395 Validation Accuracy 0.47320\n",
      "Epoch  8, CIFAR-10 Batch 4:  Loss :      1.365 Validation Accuracy 0.47420\n",
      "Epoch  8, CIFAR-10 Batch 5:  Loss :      1.453 Validation Accuracy 0.48000\n",
      "Epoch  9, CIFAR-10 Batch 1:  Loss :      1.547 Validation Accuracy 0.48500\n",
      "Epoch  9, CIFAR-10 Batch 2:  Loss :      1.407 Validation Accuracy 0.48300\n",
      "Epoch  9, CIFAR-10 Batch 3:  Loss :      1.347 Validation Accuracy 0.49340\n",
      "Epoch  9, CIFAR-10 Batch 4:  Loss :      1.329 Validation Accuracy 0.48640\n",
      "Epoch  9, CIFAR-10 Batch 5:  Loss :      1.407 Validation Accuracy 0.49060\n",
      "Epoch 10, CIFAR-10 Batch 1:  Loss :      1.503 Validation Accuracy 0.49980\n",
      "Epoch 10, CIFAR-10 Batch 2:  Loss :      1.371 Validation Accuracy 0.49420\n",
      "Epoch 10, CIFAR-10 Batch 3:  Loss :      1.319 Validation Accuracy 0.50300\n",
      "Epoch 10, CIFAR-10 Batch 4:  Loss :      1.289 Validation Accuracy 0.50440\n",
      "Epoch 10, CIFAR-10 Batch 5:  Loss :      1.376 Validation Accuracy 0.50580\n",
      "Epoch 11, CIFAR-10 Batch 1:  Loss :      1.455 Validation Accuracy 0.51000\n",
      "Epoch 11, CIFAR-10 Batch 2:  Loss :      1.336 Validation Accuracy 0.50620\n",
      "Epoch 11, CIFAR-10 Batch 3:  Loss :      1.280 Validation Accuracy 0.51300\n",
      "Epoch 11, CIFAR-10 Batch 4:  Loss :      1.259 Validation Accuracy 0.51100\n",
      "Epoch 11, CIFAR-10 Batch 5:  Loss :      1.343 Validation Accuracy 0.51580\n",
      "Epoch 12, CIFAR-10 Batch 1:  Loss :      1.428 Validation Accuracy 0.51500\n",
      "Epoch 12, CIFAR-10 Batch 2:  Loss :      1.310 Validation Accuracy 0.51560\n",
      "Epoch 12, CIFAR-10 Batch 3:  Loss :      1.262 Validation Accuracy 0.51860\n",
      "Epoch 12, CIFAR-10 Batch 4:  Loss :      1.244 Validation Accuracy 0.51460\n",
      "Epoch 12, CIFAR-10 Batch 5:  Loss :      1.323 Validation Accuracy 0.52020\n",
      "Epoch 13, CIFAR-10 Batch 1:  Loss :      1.396 Validation Accuracy 0.52060\n",
      "Epoch 13, CIFAR-10 Batch 2:  Loss :      1.285 Validation Accuracy 0.51980\n",
      "Epoch 13, CIFAR-10 Batch 3:  Loss :      1.238 Validation Accuracy 0.52540\n",
      "Epoch 13, CIFAR-10 Batch 4:  Loss :      1.226 Validation Accuracy 0.52300\n",
      "Epoch 13, CIFAR-10 Batch 5:  Loss :      1.304 Validation Accuracy 0.52620\n",
      "Epoch 14, CIFAR-10 Batch 1:  Loss :      1.368 Validation Accuracy 0.52820\n",
      "Epoch 14, CIFAR-10 Batch 2:  Loss :      1.277 Validation Accuracy 0.53060\n",
      "Epoch 14, CIFAR-10 Batch 3:  Loss :      1.214 Validation Accuracy 0.53380\n",
      "Epoch 14, CIFAR-10 Batch 4:  Loss :      1.209 Validation Accuracy 0.52600\n",
      "Epoch 14, CIFAR-10 Batch 5:  Loss :      1.277 Validation Accuracy 0.53500\n",
      "Epoch 15, CIFAR-10 Batch 1:  Loss :      1.355 Validation Accuracy 0.53140\n",
      "Epoch 15, CIFAR-10 Batch 2:  Loss :      1.262 Validation Accuracy 0.53600\n",
      "Epoch 15, CIFAR-10 Batch 3:  Loss :      1.197 Validation Accuracy 0.53620\n",
      "Epoch 15, CIFAR-10 Batch 4:  Loss :      1.196 Validation Accuracy 0.53540\n",
      "Epoch 15, CIFAR-10 Batch 5:  Loss :      1.262 Validation Accuracy 0.53620\n",
      "Epoch 16, CIFAR-10 Batch 1:  Loss :      1.336 Validation Accuracy 0.53620\n",
      "Epoch 16, CIFAR-10 Batch 2:  Loss :      1.260 Validation Accuracy 0.53540\n",
      "Epoch 16, CIFAR-10 Batch 3:  Loss :      1.180 Validation Accuracy 0.54320\n",
      "Epoch 16, CIFAR-10 Batch 4:  Loss :      1.182 Validation Accuracy 0.53740\n",
      "Epoch 16, CIFAR-10 Batch 5:  Loss :      1.233 Validation Accuracy 0.54080\n",
      "Epoch 17, CIFAR-10 Batch 1:  Loss :      1.322 Validation Accuracy 0.53880\n",
      "Epoch 17, CIFAR-10 Batch 2:  Loss :      1.243 Validation Accuracy 0.54360\n",
      "Epoch 17, CIFAR-10 Batch 3:  Loss :      1.167 Validation Accuracy 0.54540\n",
      "Epoch 17, CIFAR-10 Batch 4:  Loss :      1.179 Validation Accuracy 0.53840\n",
      "Epoch 17, CIFAR-10 Batch 5:  Loss :      1.221 Validation Accuracy 0.54620\n",
      "Epoch 18, CIFAR-10 Batch 1:  Loss :      1.307 Validation Accuracy 0.54340\n",
      "Epoch 18, CIFAR-10 Batch 2:  Loss :      1.231 Validation Accuracy 0.54340\n",
      "Epoch 18, CIFAR-10 Batch 3:  Loss :      1.146 Validation Accuracy 0.54980\n",
      "Epoch 18, CIFAR-10 Batch 4:  Loss :      1.172 Validation Accuracy 0.54160\n",
      "Epoch 18, CIFAR-10 Batch 5:  Loss :      1.213 Validation Accuracy 0.54480\n",
      "Epoch 19, CIFAR-10 Batch 1:  Loss :      1.296 Validation Accuracy 0.54460\n",
      "Epoch 19, CIFAR-10 Batch 2:  Loss :      1.231 Validation Accuracy 0.54400\n",
      "Epoch 19, CIFAR-10 Batch 3:  Loss :      1.136 Validation Accuracy 0.55200\n",
      "Epoch 19, CIFAR-10 Batch 4:  Loss :      1.163 Validation Accuracy 0.54920\n",
      "Epoch 19, CIFAR-10 Batch 5:  Loss :      1.210 Validation Accuracy 0.54600\n",
      "Epoch 20, CIFAR-10 Batch 1:  Loss :      1.297 Validation Accuracy 0.54720\n",
      "Epoch 20, CIFAR-10 Batch 2:  Loss :      1.215 Validation Accuracy 0.54740\n",
      "Epoch 20, CIFAR-10 Batch 3:  Loss :      1.132 Validation Accuracy 0.55140\n",
      "Epoch 20, CIFAR-10 Batch 4:  Loss :      1.156 Validation Accuracy 0.55020\n",
      "Epoch 20, CIFAR-10 Batch 5:  Loss :      1.193 Validation Accuracy 0.54900\n",
      "Epoch 21, CIFAR-10 Batch 1:  Loss :      1.290 Validation Accuracy 0.55180\n",
      "Epoch 21, CIFAR-10 Batch 2:  Loss :      1.201 Validation Accuracy 0.55220\n",
      "Epoch 21, CIFAR-10 Batch 3:  Loss :      1.130 Validation Accuracy 0.55140\n",
      "Epoch 21, CIFAR-10 Batch 4:  Loss :      1.137 Validation Accuracy 0.55320\n",
      "Epoch 21, CIFAR-10 Batch 5:  Loss :      1.185 Validation Accuracy 0.54900\n",
      "Epoch 22, CIFAR-10 Batch 1:  Loss :      1.282 Validation Accuracy 0.55220\n",
      "Epoch 22, CIFAR-10 Batch 2:  Loss :      1.205 Validation Accuracy 0.55620\n",
      "Epoch 22, CIFAR-10 Batch 3:  Loss :      1.124 Validation Accuracy 0.55260\n",
      "Epoch 22, CIFAR-10 Batch 4:  Loss :      1.130 Validation Accuracy 0.54980\n",
      "Epoch 22, CIFAR-10 Batch 5:  Loss :      1.182 Validation Accuracy 0.55220\n",
      "Epoch 23, CIFAR-10 Batch 1:  Loss :      1.271 Validation Accuracy 0.55660\n",
      "Epoch 23, CIFAR-10 Batch 2:  Loss :      1.193 Validation Accuracy 0.55340\n",
      "Epoch 23, CIFAR-10 Batch 3:  Loss :      1.113 Validation Accuracy 0.55520\n",
      "Epoch 23, CIFAR-10 Batch 4:  Loss :      1.130 Validation Accuracy 0.55360\n",
      "Epoch 23, CIFAR-10 Batch 5:  Loss :      1.171 Validation Accuracy 0.55660\n",
      "Epoch 24, CIFAR-10 Batch 1:  Loss :      1.258 Validation Accuracy 0.55620\n",
      "Epoch 24, CIFAR-10 Batch 2:  Loss :      1.195 Validation Accuracy 0.56120\n",
      "Epoch 24, CIFAR-10 Batch 3:  Loss :      1.097 Validation Accuracy 0.55620\n",
      "Epoch 24, CIFAR-10 Batch 4:  Loss :      1.119 Validation Accuracy 0.55820\n",
      "Epoch 24, CIFAR-10 Batch 5:  Loss :      1.152 Validation Accuracy 0.55660\n",
      "Epoch 25, CIFAR-10 Batch 1:  Loss :      1.251 Validation Accuracy 0.55660\n",
      "Epoch 25, CIFAR-10 Batch 2:  Loss :      1.185 Validation Accuracy 0.55760\n",
      "Epoch 25, CIFAR-10 Batch 3:  Loss :      1.088 Validation Accuracy 0.56100\n",
      "Epoch 25, CIFAR-10 Batch 4:  Loss :      1.111 Validation Accuracy 0.56180\n",
      "Epoch 25, CIFAR-10 Batch 5:  Loss :      1.158 Validation Accuracy 0.55540\n",
      "Epoch 26, CIFAR-10 Batch 1:  Loss :      1.249 Validation Accuracy 0.56340\n",
      "Epoch 26, CIFAR-10 Batch 2:  Loss :      1.179 Validation Accuracy 0.56180\n",
      "Epoch 26, CIFAR-10 Batch 3:  Loss :      1.082 Validation Accuracy 0.56380\n",
      "Epoch 26, CIFAR-10 Batch 4:  Loss :      1.102 Validation Accuracy 0.56300\n",
      "Epoch 26, CIFAR-10 Batch 5:  Loss :      1.154 Validation Accuracy 0.56360\n",
      "Epoch 27, CIFAR-10 Batch 1:  Loss :      1.240 Validation Accuracy 0.56380\n",
      "Epoch 27, CIFAR-10 Batch 2:  Loss :      1.169 Validation Accuracy 0.56280\n",
      "Epoch 27, CIFAR-10 Batch 3:  Loss :      1.080 Validation Accuracy 0.56520\n",
      "Epoch 27, CIFAR-10 Batch 4:  Loss :      1.097 Validation Accuracy 0.56240\n",
      "Epoch 27, CIFAR-10 Batch 5:  Loss :      1.152 Validation Accuracy 0.56600\n",
      "Epoch 28, CIFAR-10 Batch 1:  Loss :      1.241 Validation Accuracy 0.56880\n",
      "Epoch 28, CIFAR-10 Batch 2:  Loss :      1.174 Validation Accuracy 0.56540\n",
      "Epoch 28, CIFAR-10 Batch 3:  Loss :      1.075 Validation Accuracy 0.56640\n",
      "Epoch 28, CIFAR-10 Batch 4:  Loss :      1.090 Validation Accuracy 0.56760\n",
      "Epoch 28, CIFAR-10 Batch 5:  Loss :      1.149 Validation Accuracy 0.56780\n",
      "Epoch 29, CIFAR-10 Batch 1:  Loss :      1.237 Validation Accuracy 0.56680\n",
      "Epoch 29, CIFAR-10 Batch 2:  Loss :      1.159 Validation Accuracy 0.56880\n",
      "Epoch 29, CIFAR-10 Batch 3:  Loss :      1.058 Validation Accuracy 0.56920\n",
      "Epoch 29, CIFAR-10 Batch 4:  Loss :      1.078 Validation Accuracy 0.56800\n",
      "Epoch 29, CIFAR-10 Batch 5:  Loss :      1.135 Validation Accuracy 0.56560\n",
      "Epoch 30, CIFAR-10 Batch 1:  Loss :      1.224 Validation Accuracy 0.56580\n",
      "Epoch 30, CIFAR-10 Batch 2:  Loss :      1.161 Validation Accuracy 0.56380\n",
      "Epoch 30, CIFAR-10 Batch 3:  Loss :      1.061 Validation Accuracy 0.56780\n",
      "Epoch 30, CIFAR-10 Batch 4:  Loss :      1.072 Validation Accuracy 0.57060\n",
      "Epoch 30, CIFAR-10 Batch 5:  Loss :      1.137 Validation Accuracy 0.57080\n",
      "Epoch 31, CIFAR-10 Batch 1:  Loss :      1.211 Validation Accuracy 0.57240\n",
      "Epoch 31, CIFAR-10 Batch 2:  Loss :      1.147 Validation Accuracy 0.57180\n",
      "Epoch 31, CIFAR-10 Batch 3:  Loss :      1.067 Validation Accuracy 0.57300\n",
      "Epoch 31, CIFAR-10 Batch 4:  Loss :      1.071 Validation Accuracy 0.57340\n",
      "Epoch 31, CIFAR-10 Batch 5:  Loss :      1.121 Validation Accuracy 0.57020\n",
      "Epoch 32, CIFAR-10 Batch 1:  Loss :      1.210 Validation Accuracy 0.57340\n",
      "Epoch 32, CIFAR-10 Batch 2:  Loss :      1.132 Validation Accuracy 0.57160\n",
      "Epoch 32, CIFAR-10 Batch 3:  Loss :      1.050 Validation Accuracy 0.57740\n",
      "Epoch 32, CIFAR-10 Batch 4:  Loss :      1.068 Validation Accuracy 0.57220\n",
      "Epoch 32, CIFAR-10 Batch 5:  Loss :      1.114 Validation Accuracy 0.57160\n",
      "Epoch 33, CIFAR-10 Batch 1:  Loss :      1.210 Validation Accuracy 0.56980\n",
      "Epoch 33, CIFAR-10 Batch 2:  Loss :      1.126 Validation Accuracy 0.57160\n",
      "Epoch 33, CIFAR-10 Batch 3:  Loss :      1.051 Validation Accuracy 0.57260\n",
      "Epoch 33, CIFAR-10 Batch 4:  Loss :      1.056 Validation Accuracy 0.57300\n",
      "Epoch 33, CIFAR-10 Batch 5:  Loss :      1.111 Validation Accuracy 0.57120\n",
      "Epoch 34, CIFAR-10 Batch 1:  Loss :      1.204 Validation Accuracy 0.57460\n",
      "Epoch 34, CIFAR-10 Batch 2:  Loss :      1.132 Validation Accuracy 0.57000\n",
      "Epoch 34, CIFAR-10 Batch 3:  Loss :      1.043 Validation Accuracy 0.57640\n",
      "Epoch 34, CIFAR-10 Batch 4:  Loss :      1.056 Validation Accuracy 0.57620\n",
      "Epoch 34, CIFAR-10 Batch 5:  Loss :      1.101 Validation Accuracy 0.56940\n",
      "Epoch 35, CIFAR-10 Batch 1:  Loss :      1.195 Validation Accuracy 0.57640\n",
      "Epoch 35, CIFAR-10 Batch 2:  Loss :      1.126 Validation Accuracy 0.57700\n",
      "Epoch 35, CIFAR-10 Batch 3:  Loss :      1.036 Validation Accuracy 0.57460\n",
      "Epoch 35, CIFAR-10 Batch 4:  Loss :      1.053 Validation Accuracy 0.57940\n",
      "Epoch 35, CIFAR-10 Batch 5:  Loss :      1.101 Validation Accuracy 0.57240\n",
      "Epoch 36, CIFAR-10 Batch 1:  Loss :      1.193 Validation Accuracy 0.57800\n",
      "Epoch 36, CIFAR-10 Batch 2:  Loss :      1.121 Validation Accuracy 0.57040\n",
      "Epoch 36, CIFAR-10 Batch 3:  Loss :      1.037 Validation Accuracy 0.57180\n",
      "Epoch 36, CIFAR-10 Batch 4:  Loss :      1.049 Validation Accuracy 0.57980\n",
      "Epoch 36, CIFAR-10 Batch 5:  Loss :      1.093 Validation Accuracy 0.57140\n",
      "Epoch 37, CIFAR-10 Batch 1:  Loss :      1.180 Validation Accuracy 0.57340\n",
      "Epoch 37, CIFAR-10 Batch 2:  Loss :      1.114 Validation Accuracy 0.58040\n",
      "Epoch 37, CIFAR-10 Batch 3:  Loss :      1.025 Validation Accuracy 0.57660\n",
      "Epoch 37, CIFAR-10 Batch 4:  Loss :      1.045 Validation Accuracy 0.57840\n",
      "Epoch 37, CIFAR-10 Batch 5:  Loss :      1.094 Validation Accuracy 0.57200\n",
      "Epoch 38, CIFAR-10 Batch 1:  Loss :      1.177 Validation Accuracy 0.57520\n",
      "Epoch 38, CIFAR-10 Batch 2:  Loss :      1.098 Validation Accuracy 0.57900\n",
      "Epoch 38, CIFAR-10 Batch 3:  Loss :      1.031 Validation Accuracy 0.57520\n",
      "Epoch 38, CIFAR-10 Batch 4:  Loss :      1.039 Validation Accuracy 0.57800\n",
      "Epoch 38, CIFAR-10 Batch 5:  Loss :      1.081 Validation Accuracy 0.57220\n",
      "Epoch 39, CIFAR-10 Batch 1:  Loss :      1.181 Validation Accuracy 0.58000\n",
      "Epoch 39, CIFAR-10 Batch 2:  Loss :      1.109 Validation Accuracy 0.58180\n",
      "Epoch 39, CIFAR-10 Batch 3:  Loss :      1.026 Validation Accuracy 0.57520\n",
      "Epoch 39, CIFAR-10 Batch 4:  Loss :      1.039 Validation Accuracy 0.58140\n",
      "Epoch 39, CIFAR-10 Batch 5:  Loss :      1.080 Validation Accuracy 0.58060\n",
      "Epoch 40, CIFAR-10 Batch 1:  Loss :      1.165 Validation Accuracy 0.57940\n",
      "Epoch 40, CIFAR-10 Batch 2:  Loss :      1.093 Validation Accuracy 0.57980\n",
      "Epoch 40, CIFAR-10 Batch 3:  Loss :      1.016 Validation Accuracy 0.57640\n",
      "Epoch 40, CIFAR-10 Batch 4:  Loss :      1.023 Validation Accuracy 0.58740\n",
      "Epoch 40, CIFAR-10 Batch 5:  Loss :      1.069 Validation Accuracy 0.58440\n",
      "Epoch 41, CIFAR-10 Batch 1:  Loss :      1.156 Validation Accuracy 0.58520\n",
      "Epoch 41, CIFAR-10 Batch 2:  Loss :      1.098 Validation Accuracy 0.58380\n",
      "Epoch 41, CIFAR-10 Batch 3:  Loss :      1.019 Validation Accuracy 0.58060\n",
      "Epoch 41, CIFAR-10 Batch 4:  Loss :      1.025 Validation Accuracy 0.58560\n",
      "Epoch 41, CIFAR-10 Batch 5:  Loss :      1.066 Validation Accuracy 0.58260\n",
      "Epoch 42, CIFAR-10 Batch 1:  Loss :      1.161 Validation Accuracy 0.58420\n",
      "Epoch 42, CIFAR-10 Batch 2:  Loss :      1.083 Validation Accuracy 0.58600\n",
      "Epoch 42, CIFAR-10 Batch 3:  Loss :      1.015 Validation Accuracy 0.57900\n",
      "Epoch 42, CIFAR-10 Batch 4:  Loss :      1.011 Validation Accuracy 0.58920\n",
      "Epoch 42, CIFAR-10 Batch 5:  Loss :      1.068 Validation Accuracy 0.58320\n",
      "Epoch 43, CIFAR-10 Batch 1:  Loss :      1.164 Validation Accuracy 0.58380\n",
      "Epoch 43, CIFAR-10 Batch 2:  Loss :      1.081 Validation Accuracy 0.57980\n",
      "Epoch 43, CIFAR-10 Batch 3:  Loss :      1.012 Validation Accuracy 0.57460\n",
      "Epoch 43, CIFAR-10 Batch 4:  Loss :      1.009 Validation Accuracy 0.58420\n",
      "Epoch 43, CIFAR-10 Batch 5:  Loss :      1.062 Validation Accuracy 0.58260\n",
      "Epoch 44, CIFAR-10 Batch 1:  Loss :      1.160 Validation Accuracy 0.58180\n",
      "Epoch 44, CIFAR-10 Batch 2:  Loss :      1.071 Validation Accuracy 0.58500\n",
      "Epoch 44, CIFAR-10 Batch 3:  Loss :      1.008 Validation Accuracy 0.58240\n",
      "Epoch 44, CIFAR-10 Batch 4:  Loss :      1.006 Validation Accuracy 0.58700\n",
      "Epoch 44, CIFAR-10 Batch 5:  Loss :      1.052 Validation Accuracy 0.58500\n",
      "Epoch 45, CIFAR-10 Batch 1:  Loss :      1.151 Validation Accuracy 0.58260\n",
      "Epoch 45, CIFAR-10 Batch 2:  Loss :      1.076 Validation Accuracy 0.58560\n",
      "Epoch 45, CIFAR-10 Batch 3:  Loss :      0.999 Validation Accuracy 0.58300\n",
      "Epoch 45, CIFAR-10 Batch 4:  Loss :      1.013 Validation Accuracy 0.58800\n",
      "Epoch 45, CIFAR-10 Batch 5:  Loss :      1.053 Validation Accuracy 0.58820\n",
      "Epoch 46, CIFAR-10 Batch 1:  Loss :      1.158 Validation Accuracy 0.58640\n",
      "Epoch 46, CIFAR-10 Batch 2:  Loss :      1.074 Validation Accuracy 0.58580\n",
      "Epoch 46, CIFAR-10 Batch 3:  Loss :      1.001 Validation Accuracy 0.58500\n",
      "Epoch 46, CIFAR-10 Batch 4:  Loss :      0.998 Validation Accuracy 0.58860\n",
      "Epoch 46, CIFAR-10 Batch 5:  Loss :      1.057 Validation Accuracy 0.58460\n",
      "Epoch 47, CIFAR-10 Batch 1:  Loss :      1.151 Validation Accuracy 0.58740\n",
      "Epoch 47, CIFAR-10 Batch 2:  Loss :      1.068 Validation Accuracy 0.58720\n",
      "Epoch 47, CIFAR-10 Batch 3:  Loss :      0.997 Validation Accuracy 0.58500\n",
      "Epoch 47, CIFAR-10 Batch 4:  Loss :      1.003 Validation Accuracy 0.59120\n",
      "Epoch 47, CIFAR-10 Batch 5:  Loss :      1.055 Validation Accuracy 0.58520\n",
      "Epoch 48, CIFAR-10 Batch 1:  Loss :      1.149 Validation Accuracy 0.58520\n",
      "Epoch 48, CIFAR-10 Batch 2:  Loss :      1.050 Validation Accuracy 0.59020\n",
      "Epoch 48, CIFAR-10 Batch 3:  Loss :      0.987 Validation Accuracy 0.58720\n",
      "Epoch 48, CIFAR-10 Batch 4:  Loss :      0.996 Validation Accuracy 0.58880\n",
      "Epoch 48, CIFAR-10 Batch 5:  Loss :      1.051 Validation Accuracy 0.58860\n",
      "Epoch 49, CIFAR-10 Batch 1:  Loss :      1.137 Validation Accuracy 0.58940\n",
      "Epoch 49, CIFAR-10 Batch 2:  Loss :      1.060 Validation Accuracy 0.59100\n",
      "Epoch 49, CIFAR-10 Batch 3:  Loss :      0.989 Validation Accuracy 0.58680\n",
      "Epoch 49, CIFAR-10 Batch 4:  Loss :      0.995 Validation Accuracy 0.58860\n",
      "Epoch 49, CIFAR-10 Batch 5:  Loss :      1.051 Validation Accuracy 0.59120\n",
      "Epoch 50, CIFAR-10 Batch 1:  Loss :      1.147 Validation Accuracy 0.58940\n",
      "Epoch 50, CIFAR-10 Batch 2:  Loss :      1.057 Validation Accuracy 0.59120\n",
      "Epoch 50, CIFAR-10 Batch 3:  Loss :      0.982 Validation Accuracy 0.58860\n",
      "Epoch 50, CIFAR-10 Batch 4:  Loss :      0.991 Validation Accuracy 0.59340\n",
      "Epoch 50, CIFAR-10 Batch 5:  Loss :      1.032 Validation Accuracy 0.58640\n"
     ]
    }
   ],
   "source": [
    "\"\"\"\n",
    "DON'T MODIFY ANYTHING IN THIS CELL\n",
    "\"\"\"\n",
    "save_model_path = './image_classification'\n",
    "\n",
    "print('Training...')\n",
    "with tf.Session() as sess:\n",
    "    # Initializing the variables\n",
    "    sess.run(tf.global_variables_initializer())\n",
    "    \n",
    "    # Training cycle\n",
    "    for epoch in range(epochs):\n",
    "        # Loop over all batches\n",
    "        n_batches = 5\n",
    "        for batch_i in range(1, n_batches + 1):\n",
    "            for batch_features, batch_labels in helper.load_preprocess_training_batch(batch_i, batch_size):\n",
    "                train_neural_network(sess, optimizer, keep_probability, batch_features, batch_labels)\n",
    "            print('Epoch {:>2}, CIFAR-10 Batch {}:  '.format(epoch + 1, batch_i), end='')\n",
    "            print_stats(sess, batch_features, batch_labels, cost, accuracy)\n",
    "            \n",
    "    # Save Model\n",
    "    saver = tf.train.Saver()\n",
    "    save_path = saver.save(sess, save_model_path)"
   ]
  },
  {
   "cell_type": "markdown",
   "metadata": {
    "deletable": true,
    "editable": true
   },
   "source": [
    "# Checkpoint\n",
    "The model has been saved to disk.\n",
    "## Test Model\n",
    "Test your model against the test dataset.  This will be your final accuracy. You should have an accuracy greater than 50%. If you don't, keep tweaking the model architecture and parameters."
   ]
  },
  {
   "cell_type": "code",
   "execution_count": 70,
   "metadata": {
    "collapsed": false,
    "deletable": true,
    "editable": true
   },
   "outputs": [
    {
     "name": "stdout",
     "output_type": "stream",
     "text": [
      "Testing Accuracy: 0.5876470471129698\n",
      "\n"
     ]
    },
    {
     "data": {
      "image/png": "[encoded data removed]",
      "text/plain": [
       "<matplotlib.figure.Figure at 0x7fced4334eb8>"
      ]
     },
     "metadata": {
      "image/png": {
       "height": 319,
       "width": 355
      }
     },
     "output_type": "display_data"
    }
   ],
   "source": [
    "\"\"\"\n",
    "DON'T MODIFY ANYTHING IN THIS CELL\n",
    "\"\"\"\n",
    "%matplotlib inline\n",
    "%config InlineBackend.figure_format = 'retina'\n",
    "\n",
    "import tensorflow as tf\n",
    "import pickle\n",
    "import helper\n",
    "import random\n",
    "\n",
    "# Set batch size if not already set\n",
    "try:\n",
    "    if batch_size:\n",
    "        pass\n",
    "except NameError:\n",
    "    batch_size = 64\n",
    "\n",
    "save_model_path = './image_classification'\n",
    "n_samples = 4\n",
    "top_n_predictions = 3\n",
    "\n",
    "def test_model():\n",
    "    \"\"\"\n",
    "    Test the saved model against the test dataset\n",
    "    \"\"\"\n",
    "\n",
    "    test_features, test_labels = pickle.load(open('preprocess_test.p', mode='rb'))\n",
    "    loaded_graph = tf.Graph()\n",
    "\n",
    "    with tf.Session(graph=loaded_graph) as sess:\n",
    "        # Load model\n",
    "        loader = tf.train.import_meta_graph(save_model_path + '.meta')\n",
    "        loader.restore(sess, save_model_path)\n",
    "\n",
    "        # Get Tensors from loaded model\n",
    "        loaded_x = loaded_graph.get_tensor_by_name('x:0')\n",
    "        loaded_y = loaded_graph.get_tensor_by_name('y:0')\n",
    "        loaded_keep_prob = loaded_graph.get_tensor_by_name('keep_prob:0')\n",
    "        loaded_logits = loaded_graph.get_tensor_by_name('logits:0')\n",
    "        loaded_acc = loaded_graph.get_tensor_by_name('accuracy:0')\n",
    "        \n",
    "        # Get accuracy in batches for memory limitations\n",
    "        test_batch_acc_total = 0\n",
    "        test_batch_count = 0\n",
    "        \n",
    "        for test_feature_batch, test_label_batch in helper.batch_features_labels(test_features, test_labels, batch_size):\n",
    "            test_batch_acc_total += sess.run(\n",
    "                loaded_acc,\n",
    "                feed_dict={loaded_x: test_feature_batch, loaded_y: test_label_batch, loaded_keep_prob: 1.0})\n",
    "            test_batch_count += 1\n",
    "\n",
    "        print('Testing Accuracy: {}\\n'.format(test_batch_acc_total/test_batch_count))\n",
    "\n",
    "        # Print Random Samples\n",
    "        random_test_features, random_test_labels = tuple(zip(*random.sample(list(zip(test_features, test_labels)), n_samples)))\n",
    "        random_test_predictions = sess.run(\n",
    "            tf.nn.top_k(tf.nn.softmax(loaded_logits), top_n_predictions),\n",
    "            feed_dict={loaded_x: random_test_features, loaded_y: random_test_labels, loaded_keep_prob: 1.0})\n",
    "        helper.display_image_predictions(random_test_features, random_test_labels, random_test_predictions)\n",
    "\n",
    "\n",
    "test_model()"
   ]
  },
  {
   "cell_type": "markdown",
   "metadata": {
    "deletable": true,
    "editable": true
   },
   "source": [
    "## Why 50-80% Accuracy?\n",
    "You might be wondering why you can't get an accuracy any higher. First things first, 50% isn't bad for a simple CNN.  Pure guessing would get you 10% accuracy. However, you might notice people are getting scores [well above 80%](http://rodrigob.github.io/are_we_there_yet/build/classification_datasets_results.html#43494641522d3130).  That's because we haven't taught you all there is to know about neural networks. We still need to cover a few more techniques.\n",
    "## Submitting This Project\n",
    "When submitting this project, make sure to run all the cells before saving the notebook.  Save the notebook file as \"dlnd_image_classification.ipynb\" and save it as a HTML file under \"File\" -> \"Download as\".  Include the \"helper.py\" and \"problem_unittests.py\" files in your submission."
   ]
  },
  {
   "cell_type": "code",
   "execution_count": null,
   "metadata": {
    "collapsed": true
   },
   "outputs": [],
   "source": []
  }
 ],
 "metadata": {
  "celltoolbar": "Edit Metadata",
  "kernelspec": {
   "display_name": "Python 3",
   "language": "python",
   "name": "python3"
  },
  "language_info": {
   "codemirror_mode": {
    "name": "ipython",
    "version": 3
   },
   "file_extension": ".py",
   "mimetype": "text/x-python",
   "name": "python",
   "nbconvert_exporter": "python",
   "pygments_lexer": "ipython3",
   "version": "3.5.2"
  },
  "widgets": {
   "state": {},
   "version": "1.1.2"
  }
 },
 "nbformat": 4,
 "nbformat_minor": 0
}
